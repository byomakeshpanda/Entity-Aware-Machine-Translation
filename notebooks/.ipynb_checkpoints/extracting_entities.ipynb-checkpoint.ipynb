{
 "cells": [
  {
   "cell_type": "code",
   "execution_count": null,
   "metadata": {
    "colab": {
     "base_uri": "https://localhost:8080/"
    },
    "executionInfo": {
     "elapsed": 1400473,
     "status": "ok",
     "timestamp": 1738847870932,
     "user": {
      "displayName": "BYOMAKESH PANDA",
      "userId": "09428383163203717474"
     },
     "user_tz": -330
    },
    "id": "4RF_vd6gQaOv",
    "outputId": "46600ffb-3eef-42a0-c3e0-26e484f2b8b6"
   },
   "outputs": [
    {
     "name": "stderr",
     "output_type": "stream",
     "text": [
      "Processing train_data: 100%|██████████| 5531/5531 [23:20<00:00,  3.95it/s]\n"
     ]
    }
   ],
   "source": [
    "import json\n",
    "import requests\n",
    "from tqdm import tqdm  \n",
    "\n",
    "def read_jsonl(file_path):\n",
    "    \"\"\"Reads a JSONL file and returns a list of dictionaries.\"\"\"\n",
    "    data = []\n",
    "    with open(file_path, 'r') as f:\n",
    "        for line in f:\n",
    "            try:\n",
    "                data.append(json.loads(line))\n",
    "            except json.JSONDecodeError as e:\n",
    "                print(f\"Error decoding JSON: {e}\")\n",
    "    return data\n",
    "\n",
    "def get_wikidata_label(entity_id, preferred_langs):\n",
    "    url = f\"https://www.wikidata.org/w/api.php?action=wbgetentities&ids={entity_id}&format=json&props=labels\"\n",
    "    try:\n",
    "        response = requests.get(url)\n",
    "        response.raise_for_status()\n",
    "        data = response.json()\n",
    "        if entity_id in data[\"entities\"]:\n",
    "            if \"labels\" in data[\"entities\"][entity_id]:\n",
    "                labels = data[\"entities\"][entity_id][\"labels\"]\n",
    "                result = {}\n",
    "                for lang in preferred_langs:\n",
    "                    if lang in labels:\n",
    "                        result[lang] = labels[lang][\"value\"]\n",
    "                return result  # Return labels for both languages if found\n",
    "            return None\n",
    "        else:\n",
    "            return None\n",
    "    except requests.exceptions.RequestException as e:\n",
    "        print(f\"Error fetching Wikidata data: {e}\")\n",
    "        return None\n",
    "\n",
    "train_data = read_jsonl('train.jsonl')\n",
    "\n",
    "for i, item in tqdm(enumerate(train_data), total=len(train_data), desc=\"Processing train_data\"):\n",
    "    source_locale = item.get('source_locale', 'en')\n",
    "    target_locale = item.get('target_locale', 'fr')\n",
    "    preferred_langs = [target_locale, source_locale]\n",
    "    new_entities = []\n",
    "\n",
    "    for entity_id in item.get(\"entities\", []):\n",
    "        labels = get_wikidata_label(entity_id, preferred_langs)\n",
    "        if labels:\n",
    "            new_entities.append(labels) \n",
    "        else:\n",
    "            print(f\"Could not retrieve label for entity ID: {entity_id} in item {i}\")\n",
    "\n",
    "\n",
    "    item[\"entities\"] = new_entities\n"
   ]
  },
  {
   "cell_type": "code",
   "execution_count": 45,
   "metadata": {
    "colab": {
     "base_uri": "https://localhost:8080/"
    },
    "executionInfo": {
     "elapsed": 12,
     "status": "ok",
     "timestamp": 1738847870946,
     "user": {
      "displayName": "BYOMAKESH PANDA",
      "userId": "09428383163203717474"
     },
     "user_tz": -330
    },
    "id": "-mXit_UlVKiL",
    "outputId": "12437389-5d50-4f69-97cf-7b8942fd2f7a"
   },
   "outputs": [
    {
     "name": "stdout",
     "output_type": "stream",
     "text": [
      "Updated data has been saved to english_french_with_entities.json\n"
     ]
    }
   ],
   "source": [
    "output_file = 'english_french_with_entities.json'\n",
    "\n",
    "with open(output_file, 'w', encoding='utf-8') as f:\n",
    "    json.dump(train_data, f, ensure_ascii=False, indent=4)\n",
    "\n",
    "print(f\"Updated data has been saved to {output_file}\")"
   ]
  },
  {
   "cell_type": "code",
   "execution_count": 46,
   "metadata": {
    "colab": {
     "base_uri": "https://localhost:8080/"
    },
    "executionInfo": {
     "elapsed": 5,
     "status": "ok",
     "timestamp": 1738847870952,
     "user": {
      "displayName": "BYOMAKESH PANDA",
      "userId": "09428383163203717474"
     },
     "user_tz": -330
    },
    "id": "XqGkQetQPtQq",
    "outputId": "2e48832e-b24f-4d84-f426-06a15a2d802e"
   },
   "outputs": [
    {
     "data": {
      "text/plain": [
       "[{'id': 'a9011ddf',\n",
       "  'source_locale': 'en',\n",
       "  'target_locale': 'fr',\n",
       "  'source': 'What is the seventh tallest mountain in North America?',\n",
       "  'target': 'Quelle est la septième plus haute montagne d’Amérique du Nord ?',\n",
       "  'entities': [{'fr': 'Amérique du Nord', 'en': 'North America'}],\n",
       "  'from': 'mintaka'},\n",
       " {'id': '982450cf',\n",
       "  'source_locale': 'en',\n",
       "  'target_locale': 'fr',\n",
       "  'source': 'Who is the youngest current US governor?',\n",
       "  'target': 'Qui est l’actuel plus jeune gouverneur américain ?',\n",
       "  'entities': [{'fr': 'gouverneur', 'en': 'governor'}],\n",
       "  'from': 'mintaka'},\n",
       " {'id': 'b218d184',\n",
       "  'source_locale': 'en',\n",
       "  'target_locale': 'fr',\n",
       "  'source': 'Has Bernie Sanders ever been president of the United States?',\n",
       "  'target': 'Bernie Sanders a-t-il déjà été Président des États-Unis ?',\n",
       "  'entities': [{'fr': 'États-Unis', 'en': 'United States'}],\n",
       "  'from': 'mintaka'}]"
      ]
     },
     "execution_count": 46,
     "metadata": {},
     "output_type": "execute_result"
    }
   ],
   "source": [
    "train_data[:3]"
   ]
  },
  {
   "cell_type": "code",
   "execution_count": null,
   "metadata": {
    "id": "lKP_YEwRQVax"
   },
   "outputs": [],
   "source": []
  }
 ],
 "metadata": {
  "colab": {
   "authorship_tag": "ABX9TyNdmGXFG5PX6rQq2fQORtMr",
   "provenance": []
  },
  "kernelspec": {
   "display_name": "Python 3",
   "name": "python3"
  },
  "language_info": {
   "name": "python"
  }
 },
 "nbformat": 4,
 "nbformat_minor": 0
}
