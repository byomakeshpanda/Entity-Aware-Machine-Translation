{
 "cells": [
  {
   "cell_type": "code",
   "execution_count": 1,
   "metadata": {
    "colab": {
     "base_uri": "https://localhost:8080/"
    },
    "id": "P1AiX7l9ucZm",
    "outputId": "4393d2cd-3141-450e-e2ee-95e0cf7b43a4"
   },
   "outputs": [],
   "source": [
    "import json\n",
    "import torch\n",
    "from transformers import T5Tokenizer, T5ForConditionalGeneration, Trainer, TrainingArguments, DataCollatorForSeq2Seq\n",
    "from datasets import load_dataset, Dataset"
   ]
  },
  {
   "cell_type": "code",
   "execution_count": 2,
   "metadata": {
    "id": "1-laANS-1c6t"
   },
   "outputs": [],
   "source": [
    "def preprocess_data(data, output_path):\n",
    "    formatted_data = []\n",
    "    for sample in data:\n",
    "        source_text = sample[\"source\"]\n",
    "        target_text = sample[\"target\"]\n",
    "        entities = sample.get(\"enriched_entities\", [])\n",
    "\n",
    "        entity_annotations = [f\"{ent['entity_name']['en']} [{ent['entity_type']}]\" for ent in entities]\n",
    "        entity_text = \", \".join(entity_annotations) if entity_annotations else \"None\"\n",
    "\n",
    "        # Reduce NER examples to avoid overfitting\n",
    "        if len(formatted_data) % 3 == 0:  # Keep only 1/3 NER examples\n",
    "            formatted_data.append({\n",
    "                \"task\": \"NER\",\n",
    "                \"input\": f\"Recognize entities: {source_text}\",\n",
    "                \"output\": entity_text\n",
    "            })\n",
    "\n",
    "        # Keep more translation examples\n",
    "        formatted_data.append({\n",
    "            \"task\": \"Entity-aware MT\",\n",
    "            \"input\": f\"Entity translate (EN→FR): {source_text}\",\n",
    "            \"output\": target_text\n",
    "        })\n",
    "\n",
    "    with open(output_path, \"w\", encoding=\"utf-8\") as f:\n",
    "        json.dump(formatted_data, f, indent=4, ensure_ascii=False)\n",
    "\n",
    "    print(f\"Processed data saved to {output_path}\")\n"
   ]
  },
  {
   "cell_type": "code",
   "execution_count": 17,
   "metadata": {},
   "outputs": [],
   "source": [
    "import json\n",
    "\n",
    "def read_jsonl(file_path):\n",
    "    \"\"\"Reads a JSONL file and yields dictionaries one by one (memory efficient).\"\"\"\n",
    "    try:\n",
    "        with open(file_path, 'r', encoding='utf-8') as f:\n",
    "            for line_number, line in enumerate(f, start=1):\n",
    "                try:\n",
    "                    yield json.loads(line)\n",
    "                except json.JSONDecodeError as e:\n",
    "                    print(f\"Error decoding JSON on line {line_number}: {e}\")\n",
    "    except FileNotFoundError:\n",
    "        print(f\"Error: File '{file_path}' not found.\")\n"
   ]
  },
  {
   "cell_type": "code",
   "execution_count": 18,
   "metadata": {},
   "outputs": [
    {
     "name": "stdout",
     "output_type": "stream",
     "text": [
      "D:\\Byom (Don't Delete)\\main\\EA-MT\\notebooks\n"
     ]
    }
   ],
   "source": [
    "import os\n",
    "print(os.getcwd())"
   ]
  },
  {
   "cell_type": "code",
   "execution_count": 19,
   "metadata": {},
   "outputs": [],
   "source": [
    "train_path = r\"D:\\Byom (Don't Delete)\\main\\EA-MT\\data\\train\\train_data.json\""
   ]
  },
  {
   "cell_type": "code",
   "execution_count": 20,
   "metadata": {},
   "outputs": [
    {
     "name": "stdout",
     "output_type": "stream",
     "text": [
      "True\n"
     ]
    }
   ],
   "source": [
    "print(os.path.exists(train_path))"
   ]
  },
  {
   "cell_type": "code",
   "execution_count": 21,
   "metadata": {},
   "outputs": [],
   "source": [
    "data_train = read_jsonl(train_path)"
   ]
  },
  {
   "cell_type": "code",
   "execution_count": 24,
   "metadata": {},
   "outputs": [
    {
     "data": {
      "text/plain": [
       "<generator object read_jsonl at 0x000001E4FCFC0F20>"
      ]
     },
     "execution_count": 24,
     "metadata": {},
     "output_type": "execute_result"
    }
   ],
   "source": [
    "data_train"
   ]
  },
  {
   "cell_type": "code",
   "execution_count": 25,
   "metadata": {},
   "outputs": [
    {
     "name": "stdout",
     "output_type": "stream",
     "text": [
      "Error decoding JSON on line 1: Expecting value: line 2 column 1 (char 2)\n",
      "Error decoding JSON on line 2: Expecting property name enclosed in double quotes: line 2 column 1 (char 6)\n",
      "Error decoding JSON on line 3: Extra data: line 1 column 13 (char 12)\n",
      "Error decoding JSON on line 4: Extra data: line 1 column 24 (char 23)\n",
      "Error decoding JSON on line 5: Extra data: line 1 column 24 (char 23)\n",
      "Error decoding JSON on line 6: Extra data: line 1 column 17 (char 16)\n",
      "Error decoding JSON on line 7: Extra data: line 1 column 17 (char 16)\n",
      "Error decoding JSON on line 8: Extra data: line 1 column 19 (char 18)\n"
     ]
    },
    {
     "ename": "TypeError",
     "evalue": "string indices must be integers, not 'str'",
     "output_type": "error",
     "traceback": [
      "\u001b[1;31m---------------------------------------------------------------------------\u001b[0m",
      "\u001b[1;31mTypeError\u001b[0m                                 Traceback (most recent call last)",
      "Cell \u001b[1;32mIn[25], line 1\u001b[0m\n\u001b[1;32m----> 1\u001b[0m preprocess_data(data_train, \u001b[38;5;124m\"\u001b[39m\u001b[38;5;124mtrain_processed_data.json\u001b[39m\u001b[38;5;124m\"\u001b[39m)\n",
      "Cell \u001b[1;32mIn[2], line 4\u001b[0m, in \u001b[0;36mpreprocess_data\u001b[1;34m(data, output_path)\u001b[0m\n\u001b[0;32m      2\u001b[0m formatted_data \u001b[38;5;241m=\u001b[39m []\n\u001b[0;32m      3\u001b[0m \u001b[38;5;28;01mfor\u001b[39;00m sample \u001b[38;5;129;01min\u001b[39;00m data:\n\u001b[1;32m----> 4\u001b[0m     source_text \u001b[38;5;241m=\u001b[39m sample[\u001b[38;5;124m\"\u001b[39m\u001b[38;5;124msource\u001b[39m\u001b[38;5;124m\"\u001b[39m]\n\u001b[0;32m      5\u001b[0m     target_text \u001b[38;5;241m=\u001b[39m sample[\u001b[38;5;124m\"\u001b[39m\u001b[38;5;124mtarget\u001b[39m\u001b[38;5;124m\"\u001b[39m]\n\u001b[0;32m      6\u001b[0m     entities \u001b[38;5;241m=\u001b[39m sample\u001b[38;5;241m.\u001b[39mget(\u001b[38;5;124m\"\u001b[39m\u001b[38;5;124menriched_entities\u001b[39m\u001b[38;5;124m\"\u001b[39m, [])\n",
      "\u001b[1;31mTypeError\u001b[0m: string indices must be integers, not 'str'"
     ]
    }
   ],
   "source": [
    "preprocess_data(data_train, \"train_processed_data.json\")"
   ]
  },
  {
   "cell_type": "code",
   "execution_count": 9,
   "metadata": {},
   "outputs": [
    {
     "name": "stderr",
     "output_type": "stream",
     "text": [
      "You are using the default legacy behaviour of the <class 'transformers.models.t5.tokenization_t5.T5Tokenizer'>. This is expected, and simply means that the `legacy` (previous) behavior will be used so nothing changes for you. If you want to use the new behaviour, set `legacy=False`. This should only be set if you understand what it means, and thoroughly read the reason why this was added as explained in https://github.com/huggingface/transformers/pull/24565\n"
     ]
    }
   ],
   "source": [
    "tokenizer = T5Tokenizer.from_pretrained(\"google/flan-t5-small\")\n",
    "model = T5ForConditionalGeneration.from_pretrained(\"google/flan-t5-small\")"
   ]
  },
  {
   "cell_type": "code",
   "execution_count": 10,
   "metadata": {},
   "outputs": [],
   "source": [
    "device = torch.device(\"cuda\" if torch.cuda.is_available() else \"cpu\")\n",
    "model = model.to(device)"
   ]
  },
  {
   "cell_type": "code",
   "execution_count": 11,
   "metadata": {},
   "outputs": [],
   "source": [
    "def preprocess_function(samples):\n",
    "    # Tokenize inputs and targets\n",
    "    inputs = tokenizer(samples[\"input\"], padding=\"max_length\", truncation=True, max_length=128)\n",
    "    targets = tokenizer(samples[\"output\"], padding=\"max_length\", truncation=True, max_length=128)\n",
    "\n",
    "    # Set the labels for the inputs\n",
    "    inputs[\"labels\"] = targets[\"input_ids\"]\n",
    "\n",
    "    # Move tensors to CUDA (GPU) or CPU\n",
    "    inputs = {key: torch.tensor(value).to(device) for key, value in inputs.items()}\n",
    "    \n",
    "    return inputs\n"
   ]
  },
  {
   "cell_type": "code",
   "execution_count": 12,
   "metadata": {},
   "outputs": [],
   "source": [
    "def load_and_prepare_data(input_path):\n",
    "    with open(input_path, \"r\", encoding=\"utf-8\") as f:\n",
    "        data = json.load(f)\n",
    "\n",
    "    return Dataset.from_list(data)\n",
    "\n",
    "data_path = \"train_processed_data.json\"\n",
    "dataset = load_and_prepare_data(data_path)"
   ]
  },
  {
   "cell_type": "code",
   "execution_count": 13,
   "metadata": {},
   "outputs": [
    {
     "data": {
      "application/vnd.jupyter.widget-view+json": {
       "model_id": "cbf2d3ec9fe040f7bb56ce45154b06f4",
       "version_major": 2,
       "version_minor": 0
      },
      "text/plain": [
       "Map:   0%|          | 0/11613 [00:00<?, ? examples/s]"
      ]
     },
     "metadata": {},
     "output_type": "display_data"
    }
   ],
   "source": [
    "tokenized_dataset = dataset.map(preprocess_function, batched=True)\n",
    "data_collator = DataCollatorForSeq2Seq(tokenizer, model=model)"
   ]
  },
  {
   "cell_type": "code",
   "execution_count": 16,
   "metadata": {
    "colab": {
     "base_uri": "https://localhost:8080/",
     "height": 966,
     "referenced_widgets": [
      "8d1f0a1000b84044b257c811245925ea",
      "5cb86e7991f14ba4850ca008d6d48644",
      "33e2412489bd4e69a6f4b3d5b5e0a1f8",
      "35fceb9c561b4f2db1ee23b674d212e9",
      "4691d13d012940b89b34db9b91e7b526",
      "f924e4a1ccfc43b0a67d80e1ef227200",
      "3a834c8e9a9243429db67ad1340a0d04",
      "6705dd7b88e04388ac80652b38762aea",
      "4c4448a720554243b09fa6702303eced",
      "c0990874c741431697552351ae5b5d28",
      "b02c895f4f25467fa7d72798ea40869b",
      "36a80dacfa3f4a5dab8c016e9af5e3b8",
      "8e2815773915420f83d7cb72c9356a39",
      "b4565582987e49f5841bf9eabceaf6d4",
      "b07f286a7b7445fa863c87d1e5ea40a6",
      "15e1f3f6c3024b6d920bc00e586971b8",
      "c21d4ab7aa0244789384bd29bdcb606b",
      "8c9ca850654040f78686bb95dce08528",
      "409269dda536495baf8204a1106cacbe",
      "eb8a53f1d8fc43b0a29d7cf30c498e6b",
      "9bcb373a06ca42b398f7641d605d9b9b",
      "6c086b0924204b138cec1ced96b7476c",
      "bd65a8a60dbf400e8bb35d34d7c5c85a",
      "c4e5e3c2d40a4e8797baf43719d13fd1",
      "c54141c8f8a8457d8a7a4d29a8390e4d",
      "2fabd43d167c4b8a90b26fd07b1e2433",
      "01123131b2d3448e8f58e28c0fa285d2",
      "2a05658aa5a449c4922a6bde130926fa",
      "04967fa6ca00498fad47bcb29ecbc5e3",
      "789c6f5142354ec08d3593d3aff85410",
      "75e59200e848452e9d26136622281aa4",
      "e3394a527492478f84e9b0a5b25e7d17",
      "dbf4864bf4464aadb16e53fb23114042",
      "f32b458111ad41c392b64fc0c398c70b",
      "e6a9877fee74494bb3cd1fa3786a2c92",
      "c909958bf9bb49e095ba0259c383b79e",
      "869a801070e84fba9d58bcc7c7f8da7d",
      "f7dc7518b10a444d9cd740c4f059c756",
      "768cf3ee4a5c45deac3b53afb7e5d03c",
      "caeb05d98b7e4c5f93b2586ad7a053e5",
      "9b852e6bab154f008a131f186a3bda0e",
      "4540ecbf652a409ca55e35c4befac757",
      "e4345594e7f84652954a2e7c7ee274e4",
      "9eed90070bd84105b84b34a5c0da50c4",
      "5192fa018bcd4a91b798e57328cc6194",
      "57a25820e3c2432692b2f1d6d55ba35e",
      "25dcd353d3024fb4a802b8cea9f8984d",
      "a609609528174c9ea41ba4b266ebfb8c",
      "dbfa8a7ef281478ea107e1239cd7970e",
      "0f743b8232d64f148031c925be7b5e46",
      "dcb5b4eea5914f10a038e0b9d4dd28fe",
      "0e67e656f9e54663a0c22289842348b7",
      "7c3e3bcc3113491089b52cad9bf79c30",
      "6c11e4527bb242efb61605f8cd1f18bf",
      "81e73613fb7844a586eaa832b67fafdf",
      "c9a1261c182746a19c242997611f10e9",
      "723ddff2857949b4b1e8b54582be2861",
      "6d5086e3703f4edaab825cd8a20a30b8",
      "3621d0423d1f4b79b4090e349e3efd90",
      "3cbee048164c41dc8fd6ec3f490f94d2",
      "37a264f3b1984f07960a2ff2bd84460d",
      "f7a11c036527418c94810e22329a8d00",
      "9a4a6b6ee3ab4914a3788ab64533dd36",
      "2013e54b10fa41afaac051ad78389d4c",
      "91c08009e60d487d88cb0724f8336996",
      "c1841dc5d98648168f956183e0704af5",
      "e7da931968b640e9b85278ed746af268",
      "fcee53ecd5a2454a8dab5b9b71247f1e",
      "14801b2076c64b23aa1013a52a9ad963",
      "537e0ca2c92e4a97a83e5a31e03c3db7",
      "1493506d33b54a9bb72c00e89f261933",
      "bd6ac619a11349a78093c07baae136e3",
      "77ca99b664334f709091a51f4ee3f729",
      "4912521e4a204a4ebefe9982f25fe4c7",
      "6895091873da4420877e97df9ba85ffc",
      "87fe449c9f4445469e1088d74fabf8fb",
      "cd8f50cb9a7b466a803808d2c261c2d2",
      "65d4e4c6c3d549dca87bcbdff1921162",
      "88109516267041b3af35a3778dfbbe0b",
      "837e1911a7444dacb7a5f388bb6ec1fe",
      "19f14abb355d444ea151181c506c394a",
      "3db8dea2c47e4241b9d614270b63e590",
      "de44fdf0662747589867823c766dfa84",
      "b122847324ad47eb92ab8b75f4328fb6",
      "94a00a0cc52049859e849c42bcc35d94",
      "2ff4739c68b246c7b37b44ebd921cf0f",
      "51406c712eea409ab4890adb8f53251a",
      "d05f5460e4834a79a13b06b2c8815d5d"
     ]
    },
    "id": "Yz-4bPWA1c90",
    "outputId": "39994a23-d8f2-4f93-bb56-6052724c1bd7"
   },
   "outputs": [
    {
     "name": "stderr",
     "output_type": "stream",
     "text": [
      "C:\\Users\\CSE IIT BHILAI\\anaconda3\\envs\\Byom\\Lib\\site-packages\\transformers\\training_args.py:1594: FutureWarning: `evaluation_strategy` is deprecated and will be removed in version 4.46 of 🤗 Transformers. Use `eval_strategy` instead\n",
      "  warnings.warn(\n",
      "C:\\Users\\CSE IIT BHILAI\\AppData\\Local\\Temp\\ipykernel_22212\\4230565747.py:16: FutureWarning: `tokenizer` is deprecated and will be removed in version 5.0.0 for `Trainer.__init__`. Use `processing_class` instead.\n",
      "  trainer = Trainer(\n"
     ]
    },
    {
     "data": {
      "text/html": [
       "\n",
       "    <div>\n",
       "      \n",
       "      <progress value='1452' max='1452' style='width:300px; height:20px; vertical-align: middle;'></progress>\n",
       "      [1452/1452 04:40, Epoch 1/1]\n",
       "    </div>\n",
       "    <table border=\"1\" class=\"dataframe\">\n",
       "  <thead>\n",
       " <tr style=\"text-align: left;\">\n",
       "      <th>Epoch</th>\n",
       "      <th>Training Loss</th>\n",
       "      <th>Validation Loss</th>\n",
       "    </tr>\n",
       "  </thead>\n",
       "  <tbody>\n",
       "    <tr>\n",
       "      <td>1</td>\n",
       "      <td>0.095700</td>\n",
       "      <td>0.077598</td>\n",
       "    </tr>\n",
       "  </tbody>\n",
       "</table><p>"
      ],
      "text/plain": [
       "<IPython.core.display.HTML object>"
      ]
     },
     "metadata": {},
     "output_type": "display_data"
    },
    {
     "name": "stdout",
     "output_type": "stream",
     "text": [
      "Model saved to t5_finetuned\n"
     ]
    }
   ],
   "source": [
    "output_dir = \"t5_finetuned\"\n",
    "\n",
    "training_args = TrainingArguments(\n",
    "    output_dir=output_dir,\n",
    "    evaluation_strategy=\"epoch\",\n",
    "    save_strategy=\"epoch\",\n",
    "    learning_rate=3e-4,\n",
    "    per_device_train_batch_size=8,\n",
    "    per_device_eval_batch_size=8,\n",
    "    num_train_epochs=1,\n",
    "    weight_decay=0.01,\n",
    "    save_total_limit=2,\n",
    "    push_to_hub=False,\n",
    ")\n",
    "\n",
    "trainer = Trainer(\n",
    "    model=model,\n",
    "    args=training_args,\n",
    "    train_dataset=tokenized_dataset,\n",
    "    eval_dataset=tokenized_dataset,\n",
    "    tokenizer=tokenizer,\n",
    "    data_collator=data_collator,\n",
    ")\n",
    "\n",
    "trainer.train()\n",
    "model.save_pretrained(output_dir)\n",
    "tokenizer.save_pretrained(output_dir)\n",
    "print(f\"Model saved to {output_dir}\")\n"
   ]
  },
  {
   "cell_type": "code",
   "execution_count": 24,
   "metadata": {
    "colab": {
     "base_uri": "https://localhost:8080/"
    },
    "id": "Fi8CpRVj7A26",
    "outputId": "12a88ec4-8a07-4b98-9486-d44b5f008279",
    "scrolled": true
   },
   "outputs": [],
   "source": [
    "# !pip install evaluate"
   ]
  },
  {
   "cell_type": "code",
   "execution_count": 25,
   "metadata": {
    "colab": {
     "base_uri": "https://localhost:8080/"
    },
    "id": "WEsNqg0s7RSr",
    "outputId": "f9f0015b-c2be-4f10-d690-4c6911c65626"
   },
   "outputs": [],
   "source": [
    "# !pip install sacrebleu"
   ]
  },
  {
   "cell_type": "code",
   "execution_count": 17,
   "metadata": {},
   "outputs": [
    {
     "data": {
      "text/plain": [
       "{'id': '307ce37f',\n",
       " 'source_locale': 'en',\n",
       " 'target_locale': 'fr',\n",
       " 'source': 'Which country is bigger in size, USA or China?',\n",
       " 'target': 'Entre les USA et la Chine : quel pays a la plus grande superficie ?',\n",
       " 'entities': ['Q148'],\n",
       " 'from': 'mintaka',\n",
       " 'enriched_entities': [{'qid': 'Q148',\n",
       "   'entity_name': {'en': \"People's Republic of China\",\n",
       "    'fr': 'république populaire de Chine'},\n",
       "   'entity_type': 'sovereign state'}]}"
      ]
     },
     "execution_count": 17,
     "metadata": {},
     "output_type": "execute_result"
    }
   ],
   "source": [
    "data_test[400]"
   ]
  },
  {
   "cell_type": "code",
   "execution_count": 19,
   "metadata": {},
   "outputs": [
    {
     "name": "stdout",
     "output_type": "stream",
     "text": [
      "Sample Input: Which country is bigger in size, USA or China?\n",
      "Sample Output: People's Republic of China [sovereign state], United States [sovereign\n"
     ]
    }
   ],
   "source": [
    "import torch  \n",
    "\n",
    "# Move model to CUDA  \n",
    "device = torch.device(\"cuda\" if torch.cuda.is_available() else \"cpu\")  \n",
    "model.to(device)  \n",
    "\n",
    "# Prepare input  \n",
    "sample_input = data_test[400][\"source\"]  \n",
    "print(\"Sample Input:\", sample_input)  \n",
    "\n",
    "inputs = tokenizer(sample_input, return_tensors=\"pt\", padding=True, truncation=True).to(device)  \n",
    "\n",
    "# Generate output  \n",
    "outputs = model.generate(**inputs)  \n",
    "\n",
    "# Decode and print output  \n",
    "print(\"Sample Output:\", tokenizer.decode(outputs[0], skip_special_tokens=True))  \n"
   ]
  },
  {
   "cell_type": "code",
   "execution_count": null,
   "metadata": {},
   "outputs": [],
   "source": [
    "preprocess_data(data_test,\"test_split.json\")"
   ]
  },
  {
   "cell_type": "code",
   "execution_count": 30,
   "metadata": {
    "colab": {
     "base_uri": "https://localhost:8080/"
    },
    "id": "4hF2lndMC4Oh",
    "outputId": "fcd75978-15e5-4bc3-e82e-8f2bcba04bc5"
   },
   "outputs": [
    {
     "name": "stdout",
     "output_type": "stream",
     "text": [
      "Sample Input: Recognize entities: How may states touch Lake Michigan?\n",
      "Sample Output: Lake Michigan [lake]\n"
     ]
    },
    {
     "name": "stderr",
     "output_type": "stream",
     "text": [
      "Evaluating Translations: 100%|█████████████████████████████████████████████████████████| 50/50 [00:23<00:00,  2.09it/s]"
     ]
    },
    {
     "name": "stdout",
     "output_type": "stream",
     "text": [
      "Updated BLEU Score for Translation: 31.44\n"
     ]
    },
    {
     "name": "stderr",
     "output_type": "stream",
     "text": [
      "\n"
     ]
    }
   ],
   "source": [
    "import json\n",
    "import torch\n",
    "import evaluate\n",
    "from transformers import T5Tokenizer, T5ForConditionalGeneration\n",
    "from tqdm import tqdm\n",
    "\n",
    "# Load model and tokenizer\n",
    "model_path = \"t5_finetuned\"\n",
    "tokenizer = T5Tokenizer.from_pretrained(model_path)\n",
    "model = T5ForConditionalGeneration.from_pretrained(model_path)\n",
    "\n",
    "def load_test_data(input_path):\n",
    "    with open(input_path, \"r\", encoding=\"utf-8\") as f:\n",
    "        return json.load(f)\n",
    "\n",
    "# # Load test set (limit to 10 samples for debugging)\n",
    "test_data_path = \"test_split.json\"\n",
    "test_data = load_test_data(test_data_path)[:50]\n",
    "\n",
    "# Quick test to check model inference\n",
    "sample_input = test_data[0][\"input\"]\n",
    "print(\"Sample Input:\", sample_input)\n",
    "inputs = tokenizer(sample_input, return_tensors=\"pt\", padding=True, truncation=True)\n",
    "outputs = model.generate(**inputs)\n",
    "print(\"Sample Output:\", tokenizer.decode(outputs[0], skip_special_tokens=True))\n",
    "\n",
    "bleu = evaluate.load(\"sacrebleu\")\n",
    "\n",
    "def restore_entities(text, entity_mapping):\n",
    "    \"\"\"Replace placeholders in translated text with original entity names.\"\"\"\n",
    "    for placeholder, original in entity_mapping.items():\n",
    "        text = text.replace(placeholder, original)\n",
    "    return text\n",
    "\n",
    "predictions, references = [], []\n",
    "\n",
    "for sample in tqdm(test_data, desc=\"Evaluating Translations\"):\n",
    "    input_text = f\"Entity translate (EN→FR): {sample['input']}\"\n",
    "    expected_output = sample[\"output\"]\n",
    "    entity_mapping = sample.get(\"enriched_entities\", {})\n",
    "\n",
    "    inputs = tokenizer(input_text, return_tensors=\"pt\", padding=True, truncation=True)\n",
    "    outputs = model.generate(**inputs)\n",
    "    decoded_output = tokenizer.decode(outputs[0], skip_special_tokens=True)\n",
    "\n",
    "    # Restore entities before BLEU evaluation\n",
    "    final_output = restore_entities(decoded_output, entity_mapping)\n",
    "    final_reference = restore_entities(expected_output, entity_mapping)\n",
    "\n",
    "    predictions.append(final_output)\n",
    "    references.append([final_reference])\n",
    "\n",
    "# Compute BLEU score on restored translations\n",
    "bleu_score = bleu.compute(predictions=predictions, references=references)\n",
    "print(f\"Updated BLEU Score for Translation: {bleu_score['score']:.2f}\")\n"
   ]
  },
  {
   "cell_type": "code",
   "execution_count": 36,
   "metadata": {},
   "outputs": [
    {
     "data": {
      "text/plain": [
       "{'task': 'Entity-aware MT',\n",
       " 'input': 'Entity translate (EN→FR): How may states touch Lake Michigan?',\n",
       " 'output': 'Combien d’États touchent le lac Michigan ?'}"
      ]
     },
     "execution_count": 36,
     "metadata": {},
     "output_type": "execute_result"
    }
   ],
   "source": [
    "test_data[1]"
   ]
  },
  {
   "cell_type": "code",
   "execution_count": 32,
   "metadata": {
    "id": "MzpeCgYJJnPR",
    "scrolled": true
   },
   "outputs": [
    {
     "name": "stdout",
     "output_type": "stream",
     "text": [
      "0 ['Lake Michigan [lake]'] \t Combien de États a-t-il touché le lac Michigan ?\n",
      "1 ['Combien d’États touchent le lac Michigan ?'] \t Combien d’États touchent le lac Michigan ?\n",
      "2 ['Combien d’États touchent le lac Michigan ?'] \t Combien d’États touchent-on le lac Michigan ?\n",
      "3 [\"People's Republic of China [sovereign state]\"] \t Quel pays a le plus peuplé, le Canada ou le Chine ?\n",
      "4 ['Quel est le pays le plus peuplé, le Canada ou la Chine ?'] \t Quel pays est le plus peuplé, le Canada ou le Chine ?\n",
      "5 ['Quel est le pays le plus peuplé, le Canada ou la Chine ?'] \t Quel pays est le plus peuplé, le Canada ou le Chine ?\n",
      "6 ['The Lord of the Rings [novel series]'] \t Qui a réalisé le film qui est inspiré du deuxième livre de la série Le Seigneur\n",
      "7 ['Qui a réalisé le film inspiré du deuxième livre de la série Le Seigneur des anneaux ?'] \t Qui a réalisé le film inspiré du deuxième livre de la série Le Seigneur des\n",
      "8 ['Qui a réalisé le film inspiré du deuxième livre de la série Le Seigneur des anneaux ?'] \t Qui a réalisé le film inspiré du deuxième livre de la série Le Seigneur des\n",
      "9 ['Treaty of Versailles [peace treaty]'] \t Quel pays n’a pas ratifié le traité de Versailles ?\n",
      "10 ['Quel pays n’a pas ratifié le traité de Versailles ?'] \t Quel pays n’a pas ratifié le traité de Versailles ?\n",
      "11 ['Quel pays n’a pas ratifié le traité de Versailles ?'] \t Quel pays n’a pas ratifié le traité de Versailles ?\n",
      "12 ['Neuromancer [literary work]'] \t Qui a écrit Neuromancer ?\n",
      "13 ['Qui a écrit le livre Neuromancien ?'] \t Qui a écrit Neuromancer ?\n",
      "14 ['Qui a écrit le livre Neuromancien ?'] \t Qui a écrit Neuromancer ?\n",
      "15 ['The Baby-Sitters Club [novel series]'] \t Quand l’auteur de Les Baby-Sitters est-il obtenu de l\n",
      "16 ['Quand l’auteure des livres Le Club des Baby-Sitters a-t-elle été diplômée du Smith College ?'] \t Quand l’auteur de Les Baby-Sitters est-il terminé de l’\n",
      "17 ['Quand l’auteure des livres Le Club des Baby-Sitters a-t-elle été diplômée du Smith College ?'] \t Quand l’auteur de Les Baby-Sitters a-t-il terminé la\n",
      "18 ['Middle-earth [fictional continent]'] \t Qui est le distributor de la série de livres de la série Tolkien Middle Earth ?\n",
      "19 ['Qui est le distributeur de la série télé à venir basée sur les livres de Tolkien de la série Terre du Milieu ?'] \t Qui est le distributor de la série de livres télé basant sur les livres de Tolkien\n",
      "20 ['Qui est le distributeur de la série télé à venir basée sur les livres de Tolkien de la série Terre du Milieu ?'] \t Qui est le distributor de la série de livres télé basant sur les livres de Tolkien\n",
      "21 ['Academy Award for Best Director [award for best direction]'] \t Quand Guillermo del Toro a-t-il remporté l’\n",
      "22 ['Quelle est la dernière fois que Guillermo del Toro a remporté un Oscar du meilleur réalisateur ?'] \t Quand a été la dernière fois que Guillermo del Toro a-t\n",
      "23 ['Quelle est la dernière fois que Guillermo del Toro a remporté un Oscar du meilleur réalisateur ?'] \t Quand a été la dernière fois que Guillermo del Toro a-t\n",
      "24 ['Corsica [region of France]'] \t Quel dirigeant français a été nationaliste Corsican en origine\n",
      "25 ['Quel leader français était à l’origine nationaliste corse et était né le 15 août 1769 ?'] \t Quel dirigeant français a été en origine nationaliste Corsican\n",
      "26 ['Quel leader français était à l’origine nationaliste corse et était né le 15 août 1769 ?'] \t Quel dirigeant français a été en première nationaliste Corsican e\n",
      "27 ['country [territorial entity type]'] \t Quel pays a accueilli le plus de personnes en space ?\n",
      "28 ['Quel pays a envoyé le plus de personnes dans l’espace ?'] \t Quel pays a accueilli le plus de personnes en espace ?\n",
      "29 ['Quel pays a envoyé le plus de personnes dans l’espace ?'] \t Quel pays a accueilli le plus de personnes en espace ?\n",
      "30 ['Africa [continent]'] \t Quel pays a été indépendance en premier en Afrique ?\n",
      "31 ['Quel est le premier pays à avoir obtenu l’indépendance en Afrique ?'] \t Quel pays a été indépendance en premier en Afrique ?\n",
      "32 ['Quel est le premier pays à avoir obtenu l’indépendance en Afrique ?'] \t Quel pays a été en liberté en premier en Afrique ?\n",
      "33 ['Adele [human]'] \t Le titre de 19 Adele a-t-il remporté le Prix Mercury de musique\n",
      "34 ['L’album 19 d’Adèle a-t-il remporté le prix musical Mercury en 2008 ?'] \t Le album 19 de Adele a-t-il remporté le Prix Mercury de l\n",
      "35 ['L’album 19 d’Adèle a-t-il remporté le prix musical Mercury en 2008 ?'] \t Le album 19 de Adele a-t-il remporté le Prix Mercury de l\n",
      "36 ['Italy [country], Beijing [city]'] \t La Beijing est-elle la capitale de l’Italie ?\n",
      "37 ['La ville de Pékin est-elle la capitale de l’Italie ?'] \t Beijing est-elle la capitale de l’Italie ?\n",
      "38 ['La ville de Pékin est-elle la capitale de l’Italie ?'] \t Beijing est-elle la capitale de l’Italie ?\n",
      "39 ['Germany [sovereign state]'] \t La Grèce a-t-elle attaque le Pearl Harbor le 7 décembre 1941\n",
      "40 ['L’Allemagne a-t-elle attaqué Pearl Harbor le 7 décembre 1941 ?'] \t La Grèce a-t-elle attaque le Pearl Harbor le 7 décembre 1941\n",
      "41 ['L’Allemagne a-t-elle attaqué Pearl Harbor le 7 décembre 1941 ?'] \t La Grèce a-t-elle attaque le Pearl Harbor le 7 décembre 1941\n",
      "42 ['United States [sovereign state], England [constituent country of the United Kingdom], Japan [sovereign state]'] \t Qui était le dirigeant de l’Angleterre lorsqu’ils ont bombé le Japon\n",
      "43 ['Qui était le dirigeant d’Angleterre quand les États-Unis ont bombardé le Japon ?'] \t Qui était le dirigeant d’Angleterre lorsqu’ils ont bombé le Japon\n",
      "44 ['Qui était le dirigeant d’Angleterre quand les États-Unis ont bombardé le Japon ?'] \t Qui était le dirigeant d’Angleterre lorsqu’ils ont bombé le Japon\n",
      "45 ['The Lord of the Rings [novel series]'] \t Combien de livres y a-t-il dans le Seigneur des\n",
      "46 ['Combien de livres compte Le Seigneur des anneaux ?'] \t Combien de livres compte le Seigneur des anneaux ?\n",
      "47 ['Combien de livres compte Le Seigneur des anneaux ?'] \t Combien de livres compte le Seigneur des anneaux ?\n",
      "48 ['Super Smash Bros. [video game series]'] \t Quand est sorti « Super Smash Bros » ?\n",
      "49 ['Quand ’Super Smash Bros’ est-il sorti ?'] \t Quand est sorti « Super Smash Bros » ?\n"
     ]
    }
   ],
   "source": [
    "for i in range(len(predictions)):\n",
    "    print (i,references[i],\"\\t\",predictions[i])"
   ]
  },
  {
   "cell_type": "code",
   "execution_count": 24,
   "metadata": {},
   "outputs": [],
   "source": [
    "from transformers import Trainer\n",
    "import torch.nn.functional as F\n",
    "import torch\n",
    "\n",
    "class CustomTrainer(Trainer):\n",
    "    def compute_loss(self, model, inputs, return_outputs=False, **kwargs):  # ✅ Fix: Accept extra arguments\n",
    "        \"\"\"Custom loss function to prioritize translation over NER.\"\"\"\n",
    "        labels = inputs.pop(\"labels\")  # Extract target labels\n",
    "        outputs = model(**inputs)\n",
    "        logits = outputs.logits  # Get logits\n",
    "\n",
    "        # Compute CrossEntropy loss\n",
    "        loss = F.cross_entropy(logits.view(-1, logits.size(-1)), labels.view(-1), ignore_index=-100)\n",
    "\n",
    "        # Assign higher weight to translation (80%) and lower weight to NER (20%)\n",
    "        ner_weight = 0.2\n",
    "        translation_weight = 0.8\n",
    "\n",
    "        # Get task type (default to Translation)\n",
    "        task_type = inputs.get(\"task_type\", [\"Translation\"] * logits.shape[0])\n",
    "\n",
    "        # Convert task type to weight tensor\n",
    "        task_weights = torch.tensor(\n",
    "            [ner_weight if \"NER\" in task else translation_weight for task in task_type],\n",
    "            device=logits.device,\n",
    "            dtype=torch.float,\n",
    "        )\n",
    "\n",
    "        # Scale loss by task weights\n",
    "        weighted_loss = loss * task_weights.mean()\n",
    "\n",
    "        return (weighted_loss, outputs) if return_outputs else weighted_loss\n"
   ]
  },
  {
   "cell_type": "code",
   "execution_count": 25,
   "metadata": {},
   "outputs": [
    {
     "name": "stderr",
     "output_type": "stream",
     "text": [
      "C:\\Users\\CSE IIT BHILAI\\AppData\\Local\\Temp\\ipykernel_22212\\1173560818.py:1: FutureWarning: `tokenizer` is deprecated and will be removed in version 5.0.0 for `CustomTrainer.__init__`. Use `processing_class` instead.\n",
      "  trainer = CustomTrainer(\n"
     ]
    },
    {
     "data": {
      "text/html": [
       "\n",
       "    <div>\n",
       "      \n",
       "      <progress value='1452' max='1452' style='width:300px; height:20px; vertical-align: middle;'></progress>\n",
       "      [1452/1452 04:41, Epoch 1/1]\n",
       "    </div>\n",
       "    <table border=\"1\" class=\"dataframe\">\n",
       "  <thead>\n",
       " <tr style=\"text-align: left;\">\n",
       "      <th>Epoch</th>\n",
       "      <th>Training Loss</th>\n",
       "      <th>Validation Loss</th>\n",
       "    </tr>\n",
       "  </thead>\n",
       "  <tbody>\n",
       "    <tr>\n",
       "      <td>1</td>\n",
       "      <td>0.044200</td>\n",
       "      <td>0.053552</td>\n",
       "    </tr>\n",
       "  </tbody>\n",
       "</table><p>"
      ],
      "text/plain": [
       "<IPython.core.display.HTML object>"
      ]
     },
     "metadata": {},
     "output_type": "display_data"
    },
    {
     "data": {
      "text/plain": [
       "TrainOutput(global_step=1452, training_loss=0.04828366563339864, metrics={'train_runtime': 281.9405, 'train_samples_per_second': 41.19, 'train_steps_per_second': 5.15, 'total_flos': 539686607781888.0, 'train_loss': 0.04828366563339864, 'epoch': 1.0})"
      ]
     },
     "execution_count": 25,
     "metadata": {},
     "output_type": "execute_result"
    }
   ],
   "source": [
    "trainer = CustomTrainer(\n",
    "    model=model,\n",
    "    args=training_args,\n",
    "    train_dataset=tokenized_dataset,\n",
    "    eval_dataset=tokenized_dataset,\n",
    "    tokenizer=tokenizer,\n",
    "    data_collator=data_collator,\n",
    ")\n",
    "\n",
    "trainer.train()\n"
   ]
  },
  {
   "cell_type": "code",
   "execution_count": null,
   "metadata": {},
   "outputs": [],
   "source": []
  },
  {
   "cell_type": "code",
   "execution_count": 28,
   "metadata": {},
   "outputs": [],
   "source": [
    "def load_test_data(input_path):\n",
    "    with open(input_path, \"r\", encoding=\"utf-8\") as f:\n",
    "        return json.load(f)\n",
    "test_data_path = \"test_split.json\"\n",
    "test_data = load_test_data(test_data_path)[:50]"
   ]
  },
  {
   "cell_type": "code",
   "execution_count": 38,
   "metadata": {},
   "outputs": [
    {
     "name": "stdout",
     "output_type": "stream",
     "text": [
      "Sample Input: Entity translate (EN→FR): How may states touch Lake Michigan?\n",
      "Expected Input: Combien d’États touchent le lac Michigan ?\n",
      "Sample Output: Combien d’États touchent le lac Michigan ?\n"
     ]
    }
   ],
   "source": [
    "# Load a sample from test data\n",
    "sample_input = test_data[1][\"input\"]\n",
    "print(\"Sample Input:\", sample_input)\n",
    "print(\"Expected Input:\",test_data[1][\"output\"])\n",
    "# Tokenize input\n",
    "inputs = tokenizer(sample_input, return_tensors=\"pt\", padding=True, truncation=True)\n",
    "\n",
    "# Move to GPU if available\n",
    "inputs = {k: v.to(model.device) for k, v in inputs.items()}\n",
    "\n",
    "# Generate output\n",
    "outputs = model.generate(**inputs)\n",
    "\n",
    "# Decode the output\n",
    "decoded_output = tokenizer.decode(outputs[0], skip_special_tokens=True)\n",
    "print(\"Sample Output:\", decoded_output)\n",
    "\n"
   ]
  },
  {
   "cell_type": "markdown",
   "metadata": {},
   "source": [
    "### Using only for ea-mt tasks"
   ]
  },
  {
   "cell_type": "code",
   "execution_count": 43,
   "metadata": {},
   "outputs": [
    {
     "name": "stdout",
     "output_type": "stream",
     "text": [
      "Sample Input: Entity translate (EN→FR): How may states touch Lake Michigan?\n",
      "Sample Output: Combien d’États touchent le lac Michigan ?\n"
     ]
    },
    {
     "name": "stderr",
     "output_type": "stream",
     "text": [
      "Evaluating Translations: 100%|███████████████████████████████████████████████████| 1660/1660 [1:41:19<00:00,  3.66s/it]\n"
     ]
    },
    {
     "name": "stdout",
     "output_type": "stream",
     "text": [
      "Updated BLEU Score for Entity-Aware MT: 34.96\n"
     ]
    }
   ],
   "source": [
    "import json\n",
    "import torch\n",
    "import evaluate\n",
    "from transformers import T5Tokenizer, T5ForConditionalGeneration\n",
    "from tqdm import tqdm\n",
    "\n",
    "# Load model and tokenizer\n",
    "model_path = \"t5_finetuned\"\n",
    "tokenizer = T5Tokenizer.from_pretrained(model_path)\n",
    "model = T5ForConditionalGeneration.from_pretrained(model_path)\n",
    "\n",
    "def load_test_data(input_path):\n",
    "    \"\"\"Load test data and filter only 'Entity-aware MT' tasks.\"\"\"\n",
    "    with open(input_path, \"r\", encoding=\"utf-8\") as f:\n",
    "        data = json.load(f)\n",
    "\n",
    "    # ✅ Keep only samples where task == \"Entity-aware MT\"\n",
    "    filtered_data = [sample for sample in data if sample.get(\"task\") == \"Entity-aware MT\"]\n",
    "    return filtered_data\n",
    "\n",
    "# Load filtered test data\n",
    "test_data_path = \"test_split.json\"\n",
    "test_data = load_test_data(test_data_path) # Limit to first 50 samples for quick testing\n",
    "\n",
    "# ✅ Quick test on one sample\n",
    "sample_input = test_data[0][\"input\"]\n",
    "print(\"Sample Input:\", sample_input)\n",
    "\n",
    "inputs = tokenizer(sample_input, return_tensors=\"pt\", padding=True, truncation=True)\n",
    "inputs = {k: v.to(model.device) for k, v in inputs.items()}  # Move to GPU if available\n",
    "\n",
    "outputs = model.generate(**inputs)\n",
    "decoded_output = tokenizer.decode(outputs[0], skip_special_tokens=True)\n",
    "print(\"Sample Output:\", decoded_output)\n",
    "\n",
    "# ✅ Function to restore entities in translated text\n",
    "def restore_entities(text, entity_mapping):\n",
    "    \"\"\"Replace placeholders in translated text with original entity names.\"\"\"\n",
    "    for placeholder, original in entity_mapping.items():\n",
    "        text = text.replace(placeholder, original)\n",
    "    return text\n",
    "\n",
    "# Initialize BLEU evaluation\n",
    "bleu = evaluate.load(\"sacrebleu\")\n",
    "\n",
    "predictions, references = [], []\n",
    "\n",
    "# ✅ Process all test samples\n",
    "for sample in tqdm(test_data, desc=\"Evaluating Translations\"):\n",
    "    input_text = sample[\"input\"]\n",
    "    expected_output = sample[\"output\"]\n",
    "    entity_mapping = sample.get(\"enriched_entities\", {})\n",
    "\n",
    "    # Tokenize and generate translation\n",
    "    inputs = tokenizer(input_text, return_tensors=\"pt\", padding=True, truncation=True)\n",
    "    inputs = {k: v.to(model.device) for k, v in inputs.items()}  # Move to GPU\n",
    "\n",
    "    outputs = model.generate(**inputs)\n",
    "    decoded_output = tokenizer.decode(outputs[0], skip_special_tokens=True)\n",
    "\n",
    "    # ✅ Restore entity names before BLEU evaluation\n",
    "    final_output = restore_entities(decoded_output, entity_mapping)\n",
    "    final_reference = restore_entities(expected_output, entity_mapping)\n",
    "\n",
    "    predictions.append(final_output)\n",
    "    references.append([final_reference])  # BLEU expects a list of references\n",
    "\n",
    "# ✅ Compute BLEU score on restored translations\n",
    "bleu_score = bleu.compute(predictions=predictions, references=references)\n",
    "print(f\"Updated BLEU Score for Entity-Aware MT: {bleu_score['score']:.2f}\")\n"
   ]
  },
  {
   "cell_type": "code",
   "execution_count": null,
   "metadata": {},
   "outputs": [],
   "source": []
  },
  {
   "cell_type": "markdown",
   "metadata": {},
   "source": [
    "### Trying with different models"
   ]
  },
  {
   "cell_type": "code",
   "execution_count": 44,
   "metadata": {},
   "outputs": [
    {
     "data": {
      "application/vnd.jupyter.widget-view+json": {
       "model_id": "7b58b780fd2e4d75b97ffa2bb1e65b76",
       "version_major": 2,
       "version_minor": 0
      },
      "text/plain": [
       "tokenizer_config.json:   0%|          | 0.00/2.54k [00:00<?, ?B/s]"
      ]
     },
     "metadata": {},
     "output_type": "display_data"
    },
    {
     "name": "stderr",
     "output_type": "stream",
     "text": [
      "C:\\Users\\CSE IIT BHILAI\\anaconda3\\envs\\Byom\\Lib\\site-packages\\huggingface_hub\\file_download.py:142: UserWarning: `huggingface_hub` cache-system uses symlinks by default to efficiently store duplicated files but your machine does not support them in C:\\Users\\CSE IIT BHILAI\\.cache\\huggingface\\hub\\models--google--flan-t5-base. Caching files will still work but in a degraded version that might require more space on your disk. This warning can be disabled by setting the `HF_HUB_DISABLE_SYMLINKS_WARNING` environment variable. For more details, see https://huggingface.co/docs/huggingface_hub/how-to-cache#limitations.\n",
      "To support symlinks on Windows, you either need to activate Developer Mode or to run Python as an administrator. In order to activate developer mode, see this article: https://docs.microsoft.com/en-us/windows/apps/get-started/enable-your-device-for-development\n",
      "  warnings.warn(message)\n"
     ]
    },
    {
     "data": {
      "application/vnd.jupyter.widget-view+json": {
       "model_id": "a8fd37b8852c40b59897605ab02439bd",
       "version_major": 2,
       "version_minor": 0
      },
      "text/plain": [
       "spiece.model:   0%|          | 0.00/792k [00:00<?, ?B/s]"
      ]
     },
     "metadata": {},
     "output_type": "display_data"
    },
    {
     "data": {
      "application/vnd.jupyter.widget-view+json": {
       "model_id": "1ac1ab46953c410480f58a70ccf51e7f",
       "version_major": 2,
       "version_minor": 0
      },
      "text/plain": [
       "special_tokens_map.json:   0%|          | 0.00/2.20k [00:00<?, ?B/s]"
      ]
     },
     "metadata": {},
     "output_type": "display_data"
    },
    {
     "data": {
      "application/vnd.jupyter.widget-view+json": {
       "model_id": "76cd03312a0a4d9e8533b1969a28274c",
       "version_major": 2,
       "version_minor": 0
      },
      "text/plain": [
       "tokenizer.json:   0%|          | 0.00/2.42M [00:00<?, ?B/s]"
      ]
     },
     "metadata": {},
     "output_type": "display_data"
    },
    {
     "data": {
      "application/vnd.jupyter.widget-view+json": {
       "model_id": "55a721f2e38143429d85fa633dbbfee6",
       "version_major": 2,
       "version_minor": 0
      },
      "text/plain": [
       "config.json:   0%|          | 0.00/1.40k [00:00<?, ?B/s]"
      ]
     },
     "metadata": {},
     "output_type": "display_data"
    },
    {
     "data": {
      "application/vnd.jupyter.widget-view+json": {
       "model_id": "e236821dd99c4f969b8f7ca81830f67d",
       "version_major": 2,
       "version_minor": 0
      },
      "text/plain": [
       "model.safetensors:   0%|          | 0.00/990M [00:00<?, ?B/s]"
      ]
     },
     "metadata": {},
     "output_type": "display_data"
    },
    {
     "data": {
      "application/vnd.jupyter.widget-view+json": {
       "model_id": "d35433636a3b43d489c48669f41199bf",
       "version_major": 2,
       "version_minor": 0
      },
      "text/plain": [
       "generation_config.json:   0%|          | 0.00/147 [00:00<?, ?B/s]"
      ]
     },
     "metadata": {},
     "output_type": "display_data"
    }
   ],
   "source": [
    "tokenizer = T5Tokenizer.from_pretrained(\"google/flan-t5-base\")\n",
    "model = T5ForConditionalGeneration.from_pretrained(\"google/flan-t5-base\")"
   ]
  },
  {
   "cell_type": "code",
   "execution_count": 45,
   "metadata": {},
   "outputs": [],
   "source": [
    "device = torch.device(\"cuda\" if torch.cuda.is_available() else \"cpu\")\n",
    "model = model.to(device)"
   ]
  },
  {
   "cell_type": "code",
   "execution_count": 47,
   "metadata": {},
   "outputs": [
    {
     "name": "stderr",
     "output_type": "stream",
     "text": [
      "C:\\Users\\CSE IIT BHILAI\\AppData\\Local\\Temp\\ipykernel_22212\\3948366128.py:16: FutureWarning: `tokenizer` is deprecated and will be removed in version 5.0.0 for `Trainer.__init__`. Use `processing_class` instead.\n",
      "  trainer = Trainer(\n"
     ]
    },
    {
     "data": {
      "text/html": [
       "\n",
       "    <div>\n",
       "      \n",
       "      <progress value='4356' max='4356' style='width:300px; height:20px; vertical-align: middle;'></progress>\n",
       "      [4356/4356 36:49, Epoch 3/3]\n",
       "    </div>\n",
       "    <table border=\"1\" class=\"dataframe\">\n",
       "  <thead>\n",
       " <tr style=\"text-align: left;\">\n",
       "      <th>Epoch</th>\n",
       "      <th>Training Loss</th>\n",
       "      <th>Validation Loss</th>\n",
       "    </tr>\n",
       "  </thead>\n",
       "  <tbody>\n",
       "    <tr>\n",
       "      <td>1</td>\n",
       "      <td>0.062600</td>\n",
       "      <td>0.041301</td>\n",
       "    </tr>\n",
       "    <tr>\n",
       "      <td>2</td>\n",
       "      <td>0.055500</td>\n",
       "      <td>0.020989</td>\n",
       "    </tr>\n",
       "    <tr>\n",
       "      <td>3</td>\n",
       "      <td>0.036000</td>\n",
       "      <td>0.014206</td>\n",
       "    </tr>\n",
       "  </tbody>\n",
       "</table><p>"
      ],
      "text/plain": [
       "<IPython.core.display.HTML object>"
      ]
     },
     "metadata": {},
     "output_type": "display_data"
    },
    {
     "name": "stdout",
     "output_type": "stream",
     "text": [
      "Model saved to t5_large_finetuned\n"
     ]
    }
   ],
   "source": [
    "output_dir = \"t5_large_finetuned\"\n",
    "\n",
    "training_args = TrainingArguments(\n",
    "    output_dir=output_dir,\n",
    "    evaluation_strategy=\"epoch\",\n",
    "    save_strategy=\"epoch\",\n",
    "    learning_rate=3e-4,\n",
    "    per_device_train_batch_size=8,\n",
    "    per_device_eval_batch_size=8,\n",
    "    num_train_epochs=3,\n",
    "    weight_decay=0.01,\n",
    "    save_total_limit=2,\n",
    "    push_to_hub=False,\n",
    ")\n",
    "\n",
    "trainer = Trainer(\n",
    "    model=model,\n",
    "    args=training_args,\n",
    "    train_dataset=tokenized_dataset,\n",
    "    eval_dataset=tokenized_dataset,\n",
    "    tokenizer=tokenizer,\n",
    "    data_collator=data_collator,\n",
    ")\n",
    "\n",
    "trainer.train()\n",
    "model.save_pretrained(output_dir)\n",
    "tokenizer.save_pretrained(output_dir)\n",
    "print(f\"Model saved to {output_dir}\")"
   ]
  },
  {
   "cell_type": "code",
   "execution_count": 48,
   "metadata": {},
   "outputs": [
    {
     "name": "stderr",
     "output_type": "stream",
     "text": [
      "Evaluating Translations: 100%|█████████████████████████████████████████████████████| 1660/1660 [16:23<00:00,  1.69it/s]\n"
     ]
    },
    {
     "name": "stdout",
     "output_type": "stream",
     "text": [
      "Updated BLEU Score for Entity-Aware MT: 42.57\n"
     ]
    }
   ],
   "source": [
    "predictions, references = [], []\n",
    "\n",
    "# ✅ Process all test samples\n",
    "for sample in tqdm(test_data, desc=\"Evaluating Translations\"):\n",
    "    input_text = sample[\"input\"]\n",
    "    expected_output = sample[\"output\"]\n",
    "    entity_mapping = sample.get(\"enriched_entities\", {})\n",
    "\n",
    "    # Tokenize and generate translation\n",
    "    inputs = tokenizer(input_text, return_tensors=\"pt\", padding=True, truncation=True)\n",
    "    inputs = {k: v.to(model.device) for k, v in inputs.items()}  # Move to GPU\n",
    "\n",
    "    outputs = model.generate(**inputs)\n",
    "    decoded_output = tokenizer.decode(outputs[0], skip_special_tokens=True)\n",
    "\n",
    "    # ✅ Restore entity names before BLEU evaluation\n",
    "    final_output = restore_entities(decoded_output, entity_mapping)\n",
    "    final_reference = restore_entities(expected_output, entity_mapping)\n",
    "\n",
    "    predictions.append(final_output)\n",
    "    references.append([final_reference])  # BLEU expects a list of references\n",
    "\n",
    "# ✅ Compute BLEU score on restored translations\n",
    "bleu_score = bleu.compute(predictions=predictions, references=references)\n",
    "print(f\"Updated BLEU Score for Entity-Aware MT: {bleu_score['score']:.2f}\")"
   ]
  },
  {
   "cell_type": "code",
   "execution_count": 49,
   "metadata": {
    "scrolled": true
   },
   "outputs": [
    {
     "name": "stdout",
     "output_type": "stream",
     "text": [
      "Requirement already satisfied: transformers in c:\\users\\cse iit bhilai\\anaconda3\\envs\\byom\\lib\\site-packages (4.49.0)\n",
      "Requirement already satisfied: sentencepiece in c:\\users\\cse iit bhilai\\anaconda3\\envs\\byom\\lib\\site-packages (0.2.0)\n",
      "Requirement already satisfied: filelock in c:\\users\\cse iit bhilai\\anaconda3\\envs\\byom\\lib\\site-packages (from transformers) (3.13.1)\n",
      "Requirement already satisfied: huggingface-hub<1.0,>=0.26.0 in c:\\users\\cse iit bhilai\\anaconda3\\envs\\byom\\lib\\site-packages (from transformers) (0.29.3)\n",
      "Requirement already satisfied: numpy>=1.17 in c:\\users\\cse iit bhilai\\anaconda3\\envs\\byom\\lib\\site-packages (from transformers) (2.0.1)\n",
      "Requirement already satisfied: packaging>=20.0 in c:\\users\\cse iit bhilai\\anaconda3\\envs\\byom\\lib\\site-packages (from transformers) (24.2)\n",
      "Requirement already satisfied: pyyaml>=5.1 in c:\\users\\cse iit bhilai\\anaconda3\\envs\\byom\\lib\\site-packages (from transformers) (6.0.2)\n",
      "Requirement already satisfied: regex!=2019.12.17 in c:\\users\\cse iit bhilai\\anaconda3\\envs\\byom\\lib\\site-packages (from transformers) (2024.11.6)\n",
      "Requirement already satisfied: requests in c:\\users\\cse iit bhilai\\anaconda3\\envs\\byom\\lib\\site-packages (from transformers) (2.32.3)\n",
      "Requirement already satisfied: tokenizers<0.22,>=0.21 in c:\\users\\cse iit bhilai\\anaconda3\\envs\\byom\\lib\\site-packages (from transformers) (0.21.1)\n",
      "Requirement already satisfied: safetensors>=0.4.1 in c:\\users\\cse iit bhilai\\anaconda3\\envs\\byom\\lib\\site-packages (from transformers) (0.5.3)\n",
      "Requirement already satisfied: tqdm>=4.27 in c:\\users\\cse iit bhilai\\anaconda3\\envs\\byom\\lib\\site-packages (from transformers) (4.67.1)\n",
      "Requirement already satisfied: fsspec>=2023.5.0 in c:\\users\\cse iit bhilai\\anaconda3\\envs\\byom\\lib\\site-packages (from huggingface-hub<1.0,>=0.26.0->transformers) (2024.12.0)\n",
      "Requirement already satisfied: typing-extensions>=3.7.4.3 in c:\\users\\cse iit bhilai\\anaconda3\\envs\\byom\\lib\\site-packages (from huggingface-hub<1.0,>=0.26.0->transformers) (4.12.2)\n",
      "Requirement already satisfied: colorama in c:\\users\\cse iit bhilai\\anaconda3\\envs\\byom\\lib\\site-packages (from tqdm>=4.27->transformers) (0.4.6)\n",
      "Requirement already satisfied: charset-normalizer<4,>=2 in c:\\users\\cse iit bhilai\\anaconda3\\envs\\byom\\lib\\site-packages (from requests->transformers) (3.3.2)\n",
      "Requirement already satisfied: idna<4,>=2.5 in c:\\users\\cse iit bhilai\\anaconda3\\envs\\byom\\lib\\site-packages (from requests->transformers) (3.7)\n",
      "Requirement already satisfied: urllib3<3,>=1.21.1 in c:\\users\\cse iit bhilai\\anaconda3\\envs\\byom\\lib\\site-packages (from requests->transformers) (2.3.0)\n",
      "Requirement already satisfied: certifi>=2017.4.17 in c:\\users\\cse iit bhilai\\anaconda3\\envs\\byom\\lib\\site-packages (from requests->transformers) (2025.1.31)\n"
     ]
    }
   ],
   "source": [
    "!pip install transformers sentencepiece"
   ]
  },
  {
   "cell_type": "code",
   "execution_count": null,
   "metadata": {},
   "outputs": [],
   "source": []
  },
  {
   "cell_type": "code",
   "execution_count": 50,
   "metadata": {},
   "outputs": [
    {
     "data": {
      "application/vnd.jupyter.widget-view+json": {
       "model_id": "6ca8b4c92c624e4a976e86a59809f900",
       "version_major": 2,
       "version_minor": 0
      },
      "text/plain": [
       "tokenizer_config.json:   0%|          | 0.00/531 [00:00<?, ?B/s]"
      ]
     },
     "metadata": {},
     "output_type": "display_data"
    },
    {
     "name": "stderr",
     "output_type": "stream",
     "text": [
      "C:\\Users\\CSE IIT BHILAI\\anaconda3\\envs\\Byom\\Lib\\site-packages\\huggingface_hub\\file_download.py:142: UserWarning: `huggingface_hub` cache-system uses symlinks by default to efficiently store duplicated files but your machine does not support them in C:\\Users\\CSE IIT BHILAI\\.cache\\huggingface\\hub\\models--facebook--mbart-large-50. Caching files will still work but in a degraded version that might require more space on your disk. This warning can be disabled by setting the `HF_HUB_DISABLE_SYMLINKS_WARNING` environment variable. For more details, see https://huggingface.co/docs/huggingface_hub/how-to-cache#limitations.\n",
      "To support symlinks on Windows, you either need to activate Developer Mode or to run Python as an administrator. In order to activate developer mode, see this article: https://docs.microsoft.com/en-us/windows/apps/get-started/enable-your-device-for-development\n",
      "  warnings.warn(message)\n"
     ]
    },
    {
     "data": {
      "application/vnd.jupyter.widget-view+json": {
       "model_id": "bde5a23c3b0b48edacc1a34ae43d6780",
       "version_major": 2,
       "version_minor": 0
      },
      "text/plain": [
       "sentencepiece.bpe.model:   0%|          | 0.00/5.07M [00:00<?, ?B/s]"
      ]
     },
     "metadata": {},
     "output_type": "display_data"
    },
    {
     "data": {
      "application/vnd.jupyter.widget-view+json": {
       "model_id": "efdee9ce789240a8a80f7ef7ba8f0615",
       "version_major": 2,
       "version_minor": 0
      },
      "text/plain": [
       "special_tokens_map.json:   0%|          | 0.00/649 [00:00<?, ?B/s]"
      ]
     },
     "metadata": {},
     "output_type": "display_data"
    },
    {
     "data": {
      "application/vnd.jupyter.widget-view+json": {
       "model_id": "db15dc834484488e910bc4c14384ee43",
       "version_major": 2,
       "version_minor": 0
      },
      "text/plain": [
       "config.json:   0%|          | 0.00/1.42k [00:00<?, ?B/s]"
      ]
     },
     "metadata": {},
     "output_type": "display_data"
    },
    {
     "name": "stderr",
     "output_type": "stream",
     "text": [
      "The tokenizer class you load from this checkpoint is not the same type as the class this function is called from. It may result in unexpected tokenization. \n",
      "The tokenizer class you load from this checkpoint is 'MBart50Tokenizer'. \n",
      "The class this function is called from is 'MBartTokenizer'.\n"
     ]
    },
    {
     "data": {
      "application/vnd.jupyter.widget-view+json": {
       "model_id": "4928c1f32b704d6d86f2e74df37f90af",
       "version_major": 2,
       "version_minor": 0
      },
      "text/plain": [
       "pytorch_model.bin:   0%|          | 0.00/2.44G [00:00<?, ?B/s]"
      ]
     },
     "metadata": {},
     "output_type": "display_data"
    },
    {
     "data": {
      "application/vnd.jupyter.widget-view+json": {
       "model_id": "c242f43ac42a4086afb50f55259a6c9f",
       "version_major": 2,
       "version_minor": 0
      },
      "text/plain": [
       "generation_config.json:   0%|          | 0.00/261 [00:00<?, ?B/s]"
      ]
     },
     "metadata": {},
     "output_type": "display_data"
    },
    {
     "data": {
      "application/vnd.jupyter.widget-view+json": {
       "model_id": "266daa39d4d647f0af679c2dde7b56f9",
       "version_major": 2,
       "version_minor": 0
      },
      "text/plain": [
       "model.safetensors:   0%|          | 0.00/2.44G [00:00<?, ?B/s]"
      ]
     },
     "metadata": {},
     "output_type": "display_data"
    }
   ],
   "source": [
    "from transformers import MBartForConditionalGeneration, MBartTokenizer\n",
    "\n",
    "model_name = \"facebook/mbart-large-50\"\n",
    "tokenizer = MBartTokenizer.from_pretrained(model_name)\n",
    "model = MBartForConditionalGeneration.from_pretrained(model_name)\n"
   ]
  },
  {
   "cell_type": "code",
   "execution_count": 54,
   "metadata": {},
   "outputs": [
    {
     "data": {
      "text/plain": [
       "[{'task': 'Entity-aware MT',\n",
       "  'input': 'Entity translate (EN→FR): How may states touch Lake Michigan?',\n",
       "  'output': 'Combien d’États touchent le lac Michigan ?'},\n",
       " {'task': 'Entity-aware MT',\n",
       "  'input': 'Entity translate (EN→FR): Which country has a larger population, Canada or China?',\n",
       "  'output': 'Quel est le pays le plus peuplé, le Canada ou la Chine ?'},\n",
       " {'task': 'Entity-aware MT',\n",
       "  'input': 'Entity translate (EN→FR): Who directed the movie that is based on the second book of The Lord of the Rings series?',\n",
       "  'output': 'Qui a réalisé le film inspiré du deuxième livre de la série Le Seigneur des anneaux ?'},\n",
       " {'task': 'Entity-aware MT',\n",
       "  'input': 'Entity translate (EN→FR): Which country did not ratify the Treaty of Versailles?',\n",
       "  'output': 'Quel pays n’a pas ratifié le traité de Versailles ?'},\n",
       " {'task': 'Entity-aware MT',\n",
       "  'input': 'Entity translate (EN→FR): Who wrote Neuromancer?',\n",
       "  'output': 'Qui a écrit le livre Neuromancien ?'}]"
      ]
     },
     "execution_count": 54,
     "metadata": {},
     "output_type": "execute_result"
    }
   ],
   "source": [
    "test_data[:5]"
   ]
  },
  {
   "cell_type": "code",
   "execution_count": 51,
   "metadata": {},
   "outputs": [],
   "source": [
    "import json\n",
    "import torch\n",
    "import evaluate\n",
    "import pandas as pd\n",
    "from transformers import T5Tokenizer, T5ForConditionalGeneration\n",
    "from tqdm import tqdm\n",
    "\n",
    "# Load model and tokenizer\n",
    "model_path = \"t5_large_finetuned\"\n",
    "tokenizer = T5Tokenizer.from_pretrained(model_path)\n",
    "model = T5ForConditionalGeneration.from_pretrained(model_path)"
   ]
  },
  {
   "cell_type": "code",
   "execution_count": 58,
   "metadata": {},
   "outputs": [],
   "source": [
    "def preprocess_data(data):\n",
    "    \"\"\"Convert data to the required test format.\"\"\"\n",
    "    formatted_data = []\n",
    "    for sample in data:\n",
    "        source_text = sample[\"source\"]\n",
    "        target_text = sample[\"target\"]\n",
    "        \n",
    "        formatted_data.append({\n",
    "            \"task\": \"Entity-aware MT\",\n",
    "            \"input\": f\"Entity translate (EN→FR): {source_text}\",\n",
    "            \"output\": target_text\n",
    "        })\n",
    "    \n",
    "    return formatted_data\n",
    "\n",
    "def filter_test_data(test_data):\n",
    "    \"\"\"Filter only 'Entity-aware MT' tasks from the data.\"\"\"\n",
    "    return [sample for sample in test_data if sample.get(\"task\") == \"Entity-aware MT\"]\n",
    "\n",
    "def restore_entities(text, entity_mapping):\n",
    "    \"\"\"Replace placeholders in translated text with original entity names.\"\"\"\n",
    "    for placeholder, original in entity_mapping.items():\n",
    "        text = text.replace(placeholder, original)\n",
    "    return text\n",
    "\n",
    "# Initialize BLEU evaluation\n",
    "bleu = evaluate.load(\"sacrebleu\")\n",
    "\n",
    "def evaluate_translations(df_test):\n",
    "    \"\"\"Evaluate translations using a Pandas DataFrame as input.\"\"\"\n",
    "    test_data = preprocess_data(df_test.to_dict(orient='records'))\n",
    "    filtered_data = filter_test_data(test_data)\n",
    "    \n",
    "    if not filtered_data:\n",
    "        print(\"Error: No 'Entity-aware MT' samples found in the test data.\")\n",
    "        return None\n",
    "    \n",
    "    predictions, references = [], []\n",
    "    \n",
    "    for sample in tqdm(filtered_data, total=len(filtered_data), desc=\"Evaluating Translations\"):\n",
    "        input_text = sample[\"input\"]\n",
    "        expected_output = sample[\"output\"]\n",
    "        entity_mapping = sample.get(\"enriched_entities\", {})\n",
    "\n",
    "        # Tokenize and generate translation\n",
    "        inputs = tokenizer(input_text, return_tensors=\"pt\", padding=True, truncation=True)\n",
    "        inputs = {k: v.to(model.device) for k, v in inputs.items()}  # Move to GPU\n",
    "        \n",
    "        outputs = model.generate(**inputs)\n",
    "        decoded_output = tokenizer.decode(outputs[0], skip_special_tokens=True)\n",
    "\n",
    "        # Restore entity names before BLEU evaluation\n",
    "        final_output = restore_entities(decoded_output, entity_mapping)\n",
    "        final_reference = restore_entities(expected_output, entity_mapping)\n",
    "\n",
    "        predictions.append(final_output)\n",
    "        references.append([final_reference])  # BLEU expects a list of references\n",
    "\n",
    "    # Compute BLEU score\n",
    "    if not predictions or not references:\n",
    "        print(\"Error: No predictions or references available for BLEU evaluation.\")\n",
    "        return None\n",
    "\n",
    "    bleu_score = bleu.compute(predictions=predictions, references=references)\n",
    "    print(f\"Updated BLEU Score for Entity-Aware MT: {bleu_score['score']:.2f}\")\n",
    "\n",
    "    return bleu_score"
   ]
  },
  {
   "cell_type": "code",
   "execution_count": 63,
   "metadata": {},
   "outputs": [],
   "source": [
    "df_test = pd.read_csv(\"validation_french.csv\")"
   ]
  },
  {
   "cell_type": "code",
   "execution_count": 65,
   "metadata": {},
   "outputs": [
    {
     "data": {
      "text/html": [
       "<div>\n",
       "<style scoped>\n",
       "    .dataframe tbody tr th:only-of-type {\n",
       "        vertical-align: middle;\n",
       "    }\n",
       "\n",
       "    .dataframe tbody tr th {\n",
       "        vertical-align: top;\n",
       "    }\n",
       "\n",
       "    .dataframe thead th {\n",
       "        text-align: right;\n",
       "    }\n",
       "</style>\n",
       "<table border=\"1\" class=\"dataframe\">\n",
       "  <thead>\n",
       "    <tr style=\"text-align: right;\">\n",
       "      <th></th>\n",
       "      <th>Unnamed: 0</th>\n",
       "      <th>wikidata_id</th>\n",
       "      <th>source</th>\n",
       "      <th>target</th>\n",
       "      <th>entity</th>\n",
       "    </tr>\n",
       "  </thead>\n",
       "  <tbody>\n",
       "    <tr>\n",
       "      <th>0</th>\n",
       "      <td>0</td>\n",
       "      <td>Q100231013</td>\n",
       "      <td>What is the scope of the Statistical Classific...</td>\n",
       "      <td>Quelle est la portée de la Nomenclature statis...</td>\n",
       "      <td>Statistical Classification of Economic Activit...</td>\n",
       "    </tr>\n",
       "    <tr>\n",
       "      <th>1</th>\n",
       "      <td>1</td>\n",
       "      <td>Q100231013</td>\n",
       "      <td>How is the Statistical Classification of Econo...</td>\n",
       "      <td>Comment la Nomenclature statistique des activi...</td>\n",
       "      <td>Statistical Classification of Economic Activit...</td>\n",
       "    </tr>\n",
       "    <tr>\n",
       "      <th>2</th>\n",
       "      <td>2</td>\n",
       "      <td>Q100231013</td>\n",
       "      <td>Why is the Statistical Classification of Econo...</td>\n",
       "      <td>Pourquoi la Nomenclature statistique des activ...</td>\n",
       "      <td>Statistical Classification of Economic Activit...</td>\n",
       "    </tr>\n",
       "    <tr>\n",
       "      <th>3</th>\n",
       "      <td>3</td>\n",
       "      <td>Q1040143</td>\n",
       "      <td>How does Pokémon evolution work?</td>\n",
       "      <td>Comment fonctionne l'évolution des Pokémon?</td>\n",
       "      <td>Pokémon evolution</td>\n",
       "    </tr>\n",
       "    <tr>\n",
       "      <th>4</th>\n",
       "      <td>4</td>\n",
       "      <td>Q1040143</td>\n",
       "      <td>What is Pokémon evolution?</td>\n",
       "      <td>Qu'est-ce que l'évolution des Pokémon?</td>\n",
       "      <td>Pokémon evolution</td>\n",
       "    </tr>\n",
       "  </tbody>\n",
       "</table>\n",
       "</div>"
      ],
      "text/plain": [
       "   Unnamed: 0 wikidata_id                                             source  \\\n",
       "0           0  Q100231013  What is the scope of the Statistical Classific...   \n",
       "1           1  Q100231013  How is the Statistical Classification of Econo...   \n",
       "2           2  Q100231013  Why is the Statistical Classification of Econo...   \n",
       "3           3    Q1040143                   How does Pokémon evolution work?   \n",
       "4           4    Q1040143                         What is Pokémon evolution?   \n",
       "\n",
       "                                              target  \\\n",
       "0  Quelle est la portée de la Nomenclature statis...   \n",
       "1  Comment la Nomenclature statistique des activi...   \n",
       "2  Pourquoi la Nomenclature statistique des activ...   \n",
       "3        Comment fonctionne l'évolution des Pokémon?   \n",
       "4             Qu'est-ce que l'évolution des Pokémon?   \n",
       "\n",
       "                                              entity  \n",
       "0  Statistical Classification of Economic Activit...  \n",
       "1  Statistical Classification of Economic Activit...  \n",
       "2  Statistical Classification of Economic Activit...  \n",
       "3                                  Pokémon evolution  \n",
       "4                                  Pokémon evolution  "
      ]
     },
     "execution_count": 65,
     "metadata": {},
     "output_type": "execute_result"
    }
   ],
   "source": [
    "df_test.head()"
   ]
  },
  {
   "cell_type": "code",
   "execution_count": 66,
   "metadata": {},
   "outputs": [
    {
     "name": "stderr",
     "output_type": "stream",
     "text": [
      "Evaluating Translations: 100%|███████████████████████████████████████████████████████| 724/724 [11:25<00:00,  1.06it/s]"
     ]
    },
    {
     "name": "stdout",
     "output_type": "stream",
     "text": [
      "Updated BLEU Score for Entity-Aware MT: 17.87\n"
     ]
    },
    {
     "name": "stderr",
     "output_type": "stream",
     "text": [
      "\n"
     ]
    },
    {
     "data": {
      "text/plain": [
       "{'score': 17.874177858127915,\n",
       " 'counts': [3794, 1669, 865, 424],\n",
       " 'totals': [7404, 6680, 5956, 5232],\n",
       " 'precisions': [51.24257158292815,\n",
       "  24.98502994011976,\n",
       "  14.523169912693083,\n",
       "  8.103975535168196],\n",
       " 'bp': 0.9072113866136169,\n",
       " 'sys_len': 7404,\n",
       " 'ref_len': 8125}"
      ]
     },
     "execution_count": 66,
     "metadata": {},
     "output_type": "execute_result"
    }
   ],
   "source": [
    "evaluate_translations(df_test)"
   ]
  },
  {
   "cell_type": "code",
   "execution_count": null,
   "metadata": {},
   "outputs": [],
   "source": []
  }
 ],
 "metadata": {
  "accelerator": "GPU",
  "colab": {
   "gpuType": "T4",
   "provenance": []
  },
  "kernelspec": {
   "display_name": "Python 3 (ipykernel)",
   "language": "python",
   "name": "python3"
  },
  "language_info": {
   "codemirror_mode": {
    "name": "ipython",
    "version": 3
   },
   "file_extension": ".py",
   "mimetype": "text/x-python",
   "name": "python",
   "nbconvert_exporter": "python",
   "pygments_lexer": "ipython3",
   "version": "3.12.9"
  },
  "widgets": {
   "application/vnd.jupyter.widget-state+json": {
    "01123131b2d3448e8f58e28c0fa285d2": {
     "model_module": "@jupyter-widgets/base",
     "model_module_version": "1.2.0",
     "model_name": "LayoutModel",
     "state": {
      "_model_module": "@jupyter-widgets/base",
      "_model_module_version": "1.2.0",
      "_model_name": "LayoutModel",
      "_view_count": null,
      "_view_module": "@jupyter-widgets/base",
      "_view_module_version": "1.2.0",
      "_view_name": "LayoutView",
      "align_content": null,
      "align_items": null,
      "align_self": null,
      "border": null,
      "bottom": null,
      "display": null,
      "flex": null,
      "flex_flow": null,
      "grid_area": null,
      "grid_auto_columns": null,
      "grid_auto_flow": null,
      "grid_auto_rows": null,
      "grid_column": null,
      "grid_gap": null,
      "grid_row": null,
      "grid_template_areas": null,
      "grid_template_columns": null,
      "grid_template_rows": null,
      "height": null,
      "justify_content": null,
      "justify_items": null,
      "left": null,
      "margin": null,
      "max_height": null,
      "max_width": null,
      "min_height": null,
      "min_width": null,
      "object_fit": null,
      "object_position": null,
      "order": null,
      "overflow": null,
      "overflow_x": null,
      "overflow_y": null,
      "padding": null,
      "right": null,
      "top": null,
      "visibility": null,
      "width": null
     }
    },
    "04967fa6ca00498fad47bcb29ecbc5e3": {
     "model_module": "@jupyter-widgets/controls",
     "model_module_version": "1.5.0",
     "model_name": "DescriptionStyleModel",
     "state": {
      "_model_module": "@jupyter-widgets/controls",
      "_model_module_version": "1.5.0",
      "_model_name": "DescriptionStyleModel",
      "_view_count": null,
      "_view_module": "@jupyter-widgets/base",
      "_view_module_version": "1.2.0",
      "_view_name": "StyleView",
      "description_width": ""
     }
    },
    "0e67e656f9e54663a0c22289842348b7": {
     "model_module": "@jupyter-widgets/base",
     "model_module_version": "1.2.0",
     "model_name": "LayoutModel",
     "state": {
      "_model_module": "@jupyter-widgets/base",
      "_model_module_version": "1.2.0",
      "_model_name": "LayoutModel",
      "_view_count": null,
      "_view_module": "@jupyter-widgets/base",
      "_view_module_version": "1.2.0",
      "_view_name": "LayoutView",
      "align_content": null,
      "align_items": null,
      "align_self": null,
      "border": null,
      "bottom": null,
      "display": null,
      "flex": null,
      "flex_flow": null,
      "grid_area": null,
      "grid_auto_columns": null,
      "grid_auto_flow": null,
      "grid_auto_rows": null,
      "grid_column": null,
      "grid_gap": null,
      "grid_row": null,
      "grid_template_areas": null,
      "grid_template_columns": null,
      "grid_template_rows": null,
      "height": null,
      "justify_content": null,
      "justify_items": null,
      "left": null,
      "margin": null,
      "max_height": null,
      "max_width": null,
      "min_height": null,
      "min_width": null,
      "object_fit": null,
      "object_position": null,
      "order": null,
      "overflow": null,
      "overflow_x": null,
      "overflow_y": null,
      "padding": null,
      "right": null,
      "top": null,
      "visibility": null,
      "width": null
     }
    },
    "0f743b8232d64f148031c925be7b5e46": {
     "model_module": "@jupyter-widgets/base",
     "model_module_version": "1.2.0",
     "model_name": "LayoutModel",
     "state": {
      "_model_module": "@jupyter-widgets/base",
      "_model_module_version": "1.2.0",
      "_model_name": "LayoutModel",
      "_view_count": null,
      "_view_module": "@jupyter-widgets/base",
      "_view_module_version": "1.2.0",
      "_view_name": "LayoutView",
      "align_content": null,
      "align_items": null,
      "align_self": null,
      "border": null,
      "bottom": null,
      "display": null,
      "flex": null,
      "flex_flow": null,
      "grid_area": null,
      "grid_auto_columns": null,
      "grid_auto_flow": null,
      "grid_auto_rows": null,
      "grid_column": null,
      "grid_gap": null,
      "grid_row": null,
      "grid_template_areas": null,
      "grid_template_columns": null,
      "grid_template_rows": null,
      "height": null,
      "justify_content": null,
      "justify_items": null,
      "left": null,
      "margin": null,
      "max_height": null,
      "max_width": null,
      "min_height": null,
      "min_width": null,
      "object_fit": null,
      "object_position": null,
      "order": null,
      "overflow": null,
      "overflow_x": null,
      "overflow_y": null,
      "padding": null,
      "right": null,
      "top": null,
      "visibility": null,
      "width": null
     }
    },
    "14801b2076c64b23aa1013a52a9ad963": {
     "model_module": "@jupyter-widgets/controls",
     "model_module_version": "1.5.0",
     "model_name": "FloatProgressModel",
     "state": {
      "_dom_classes": [],
      "_model_module": "@jupyter-widgets/controls",
      "_model_module_version": "1.5.0",
      "_model_name": "FloatProgressModel",
      "_view_count": null,
      "_view_module": "@jupyter-widgets/controls",
      "_view_module_version": "1.5.0",
      "_view_name": "ProgressView",
      "bar_style": "success",
      "description": "",
      "description_tooltip": null,
      "layout": "IPY_MODEL_4912521e4a204a4ebefe9982f25fe4c7",
      "max": 147,
      "min": 0,
      "orientation": "horizontal",
      "style": "IPY_MODEL_6895091873da4420877e97df9ba85ffc",
      "value": 147
     }
    },
    "1493506d33b54a9bb72c00e89f261933": {
     "model_module": "@jupyter-widgets/base",
     "model_module_version": "1.2.0",
     "model_name": "LayoutModel",
     "state": {
      "_model_module": "@jupyter-widgets/base",
      "_model_module_version": "1.2.0",
      "_model_name": "LayoutModel",
      "_view_count": null,
      "_view_module": "@jupyter-widgets/base",
      "_view_module_version": "1.2.0",
      "_view_name": "LayoutView",
      "align_content": null,
      "align_items": null,
      "align_self": null,
      "border": null,
      "bottom": null,
      "display": null,
      "flex": null,
      "flex_flow": null,
      "grid_area": null,
      "grid_auto_columns": null,
      "grid_auto_flow": null,
      "grid_auto_rows": null,
      "grid_column": null,
      "grid_gap": null,
      "grid_row": null,
      "grid_template_areas": null,
      "grid_template_columns": null,
      "grid_template_rows": null,
      "height": null,
      "justify_content": null,
      "justify_items": null,
      "left": null,
      "margin": null,
      "max_height": null,
      "max_width": null,
      "min_height": null,
      "min_width": null,
      "object_fit": null,
      "object_position": null,
      "order": null,
      "overflow": null,
      "overflow_x": null,
      "overflow_y": null,
      "padding": null,
      "right": null,
      "top": null,
      "visibility": null,
      "width": null
     }
    },
    "15e1f3f6c3024b6d920bc00e586971b8": {
     "model_module": "@jupyter-widgets/base",
     "model_module_version": "1.2.0",
     "model_name": "LayoutModel",
     "state": {
      "_model_module": "@jupyter-widgets/base",
      "_model_module_version": "1.2.0",
      "_model_name": "LayoutModel",
      "_view_count": null,
      "_view_module": "@jupyter-widgets/base",
      "_view_module_version": "1.2.0",
      "_view_name": "LayoutView",
      "align_content": null,
      "align_items": null,
      "align_self": null,
      "border": null,
      "bottom": null,
      "display": null,
      "flex": null,
      "flex_flow": null,
      "grid_area": null,
      "grid_auto_columns": null,
      "grid_auto_flow": null,
      "grid_auto_rows": null,
      "grid_column": null,
      "grid_gap": null,
      "grid_row": null,
      "grid_template_areas": null,
      "grid_template_columns": null,
      "grid_template_rows": null,
      "height": null,
      "justify_content": null,
      "justify_items": null,
      "left": null,
      "margin": null,
      "max_height": null,
      "max_width": null,
      "min_height": null,
      "min_width": null,
      "object_fit": null,
      "object_position": null,
      "order": null,
      "overflow": null,
      "overflow_x": null,
      "overflow_y": null,
      "padding": null,
      "right": null,
      "top": null,
      "visibility": null,
      "width": null
     }
    },
    "19f14abb355d444ea151181c506c394a": {
     "model_module": "@jupyter-widgets/controls",
     "model_module_version": "1.5.0",
     "model_name": "HTMLModel",
     "state": {
      "_dom_classes": [],
      "_model_module": "@jupyter-widgets/controls",
      "_model_module_version": "1.5.0",
      "_model_name": "HTMLModel",
      "_view_count": null,
      "_view_module": "@jupyter-widgets/controls",
      "_view_module_version": "1.5.0",
      "_view_name": "HTMLView",
      "description": "",
      "description_tooltip": null,
      "layout": "IPY_MODEL_51406c712eea409ab4890adb8f53251a",
      "placeholder": "​",
      "style": "IPY_MODEL_d05f5460e4834a79a13b06b2c8815d5d",
      "value": " 11615/11615 [00:03&lt;00:00, 3616.23 examples/s]"
     }
    },
    "2013e54b10fa41afaac051ad78389d4c": {
     "model_module": "@jupyter-widgets/controls",
     "model_module_version": "1.5.0",
     "model_name": "ProgressStyleModel",
     "state": {
      "_model_module": "@jupyter-widgets/controls",
      "_model_module_version": "1.5.0",
      "_model_name": "ProgressStyleModel",
      "_view_count": null,
      "_view_module": "@jupyter-widgets/base",
      "_view_module_version": "1.2.0",
      "_view_name": "StyleView",
      "bar_color": null,
      "description_width": ""
     }
    },
    "25dcd353d3024fb4a802b8cea9f8984d": {
     "model_module": "@jupyter-widgets/controls",
     "model_module_version": "1.5.0",
     "model_name": "FloatProgressModel",
     "state": {
      "_dom_classes": [],
      "_model_module": "@jupyter-widgets/controls",
      "_model_module_version": "1.5.0",
      "_model_name": "FloatProgressModel",
      "_view_count": null,
      "_view_module": "@jupyter-widgets/controls",
      "_view_module_version": "1.5.0",
      "_view_name": "ProgressView",
      "bar_style": "success",
      "description": "",
      "description_tooltip": null,
      "layout": "IPY_MODEL_0e67e656f9e54663a0c22289842348b7",
      "max": 1401,
      "min": 0,
      "orientation": "horizontal",
      "style": "IPY_MODEL_7c3e3bcc3113491089b52cad9bf79c30",
      "value": 1401
     }
    },
    "2a05658aa5a449c4922a6bde130926fa": {
     "model_module": "@jupyter-widgets/base",
     "model_module_version": "1.2.0",
     "model_name": "LayoutModel",
     "state": {
      "_model_module": "@jupyter-widgets/base",
      "_model_module_version": "1.2.0",
      "_model_name": "LayoutModel",
      "_view_count": null,
      "_view_module": "@jupyter-widgets/base",
      "_view_module_version": "1.2.0",
      "_view_name": "LayoutView",
      "align_content": null,
      "align_items": null,
      "align_self": null,
      "border": null,
      "bottom": null,
      "display": null,
      "flex": null,
      "flex_flow": null,
      "grid_area": null,
      "grid_auto_columns": null,
      "grid_auto_flow": null,
      "grid_auto_rows": null,
      "grid_column": null,
      "grid_gap": null,
      "grid_row": null,
      "grid_template_areas": null,
      "grid_template_columns": null,
      "grid_template_rows": null,
      "height": null,
      "justify_content": null,
      "justify_items": null,
      "left": null,
      "margin": null,
      "max_height": null,
      "max_width": null,
      "min_height": null,
      "min_width": null,
      "object_fit": null,
      "object_position": null,
      "order": null,
      "overflow": null,
      "overflow_x": null,
      "overflow_y": null,
      "padding": null,
      "right": null,
      "top": null,
      "visibility": null,
      "width": null
     }
    },
    "2fabd43d167c4b8a90b26fd07b1e2433": {
     "model_module": "@jupyter-widgets/controls",
     "model_module_version": "1.5.0",
     "model_name": "HTMLModel",
     "state": {
      "_dom_classes": [],
      "_model_module": "@jupyter-widgets/controls",
      "_model_module_version": "1.5.0",
      "_model_name": "HTMLModel",
      "_view_count": null,
      "_view_module": "@jupyter-widgets/controls",
      "_view_module_version": "1.5.0",
      "_view_name": "HTMLView",
      "description": "",
      "description_tooltip": null,
      "layout": "IPY_MODEL_e3394a527492478f84e9b0a5b25e7d17",
      "placeholder": "​",
      "style": "IPY_MODEL_dbf4864bf4464aadb16e53fb23114042",
      "value": " 2.20k/2.20k [00:00&lt;00:00, 189kB/s]"
     }
    },
    "2ff4739c68b246c7b37b44ebd921cf0f": {
     "model_module": "@jupyter-widgets/controls",
     "model_module_version": "1.5.0",
     "model_name": "ProgressStyleModel",
     "state": {
      "_model_module": "@jupyter-widgets/controls",
      "_model_module_version": "1.5.0",
      "_model_name": "ProgressStyleModel",
      "_view_count": null,
      "_view_module": "@jupyter-widgets/base",
      "_view_module_version": "1.2.0",
      "_view_name": "StyleView",
      "bar_color": null,
      "description_width": ""
     }
    },
    "33e2412489bd4e69a6f4b3d5b5e0a1f8": {
     "model_module": "@jupyter-widgets/controls",
     "model_module_version": "1.5.0",
     "model_name": "FloatProgressModel",
     "state": {
      "_dom_classes": [],
      "_model_module": "@jupyter-widgets/controls",
      "_model_module_version": "1.5.0",
      "_model_name": "FloatProgressModel",
      "_view_count": null,
      "_view_module": "@jupyter-widgets/controls",
      "_view_module_version": "1.5.0",
      "_view_name": "ProgressView",
      "bar_style": "success",
      "description": "",
      "description_tooltip": null,
      "layout": "IPY_MODEL_6705dd7b88e04388ac80652b38762aea",
      "max": 2539,
      "min": 0,
      "orientation": "horizontal",
      "style": "IPY_MODEL_4c4448a720554243b09fa6702303eced",
      "value": 2539
     }
    },
    "35fceb9c561b4f2db1ee23b674d212e9": {
     "model_module": "@jupyter-widgets/controls",
     "model_module_version": "1.5.0",
     "model_name": "HTMLModel",
     "state": {
      "_dom_classes": [],
      "_model_module": "@jupyter-widgets/controls",
      "_model_module_version": "1.5.0",
      "_model_name": "HTMLModel",
      "_view_count": null,
      "_view_module": "@jupyter-widgets/controls",
      "_view_module_version": "1.5.0",
      "_view_name": "HTMLView",
      "description": "",
      "description_tooltip": null,
      "layout": "IPY_MODEL_c0990874c741431697552351ae5b5d28",
      "placeholder": "​",
      "style": "IPY_MODEL_b02c895f4f25467fa7d72798ea40869b",
      "value": " 2.54k/2.54k [00:00&lt;00:00, 274kB/s]"
     }
    },
    "3621d0423d1f4b79b4090e349e3efd90": {
     "model_module": "@jupyter-widgets/controls",
     "model_module_version": "1.5.0",
     "model_name": "HTMLModel",
     "state": {
      "_dom_classes": [],
      "_model_module": "@jupyter-widgets/controls",
      "_model_module_version": "1.5.0",
      "_model_name": "HTMLModel",
      "_view_count": null,
      "_view_module": "@jupyter-widgets/controls",
      "_view_module_version": "1.5.0",
      "_view_name": "HTMLView",
      "description": "",
      "description_tooltip": null,
      "layout": "IPY_MODEL_91c08009e60d487d88cb0724f8336996",
      "placeholder": "​",
      "style": "IPY_MODEL_c1841dc5d98648168f956183e0704af5",
      "value": " 308M/308M [00:00&lt;00:00, 321MB/s]"
     }
    },
    "36a80dacfa3f4a5dab8c016e9af5e3b8": {
     "model_module": "@jupyter-widgets/controls",
     "model_module_version": "1.5.0",
     "model_name": "HBoxModel",
     "state": {
      "_dom_classes": [],
      "_model_module": "@jupyter-widgets/controls",
      "_model_module_version": "1.5.0",
      "_model_name": "HBoxModel",
      "_view_count": null,
      "_view_module": "@jupyter-widgets/controls",
      "_view_module_version": "1.5.0",
      "_view_name": "HBoxView",
      "box_style": "",
      "children": [
       "IPY_MODEL_8e2815773915420f83d7cb72c9356a39",
       "IPY_MODEL_b4565582987e49f5841bf9eabceaf6d4",
       "IPY_MODEL_b07f286a7b7445fa863c87d1e5ea40a6"
      ],
      "layout": "IPY_MODEL_15e1f3f6c3024b6d920bc00e586971b8"
     }
    },
    "37a264f3b1984f07960a2ff2bd84460d": {
     "model_module": "@jupyter-widgets/base",
     "model_module_version": "1.2.0",
     "model_name": "LayoutModel",
     "state": {
      "_model_module": "@jupyter-widgets/base",
      "_model_module_version": "1.2.0",
      "_model_name": "LayoutModel",
      "_view_count": null,
      "_view_module": "@jupyter-widgets/base",
      "_view_module_version": "1.2.0",
      "_view_name": "LayoutView",
      "align_content": null,
      "align_items": null,
      "align_self": null,
      "border": null,
      "bottom": null,
      "display": null,
      "flex": null,
      "flex_flow": null,
      "grid_area": null,
      "grid_auto_columns": null,
      "grid_auto_flow": null,
      "grid_auto_rows": null,
      "grid_column": null,
      "grid_gap": null,
      "grid_row": null,
      "grid_template_areas": null,
      "grid_template_columns": null,
      "grid_template_rows": null,
      "height": null,
      "justify_content": null,
      "justify_items": null,
      "left": null,
      "margin": null,
      "max_height": null,
      "max_width": null,
      "min_height": null,
      "min_width": null,
      "object_fit": null,
      "object_position": null,
      "order": null,
      "overflow": null,
      "overflow_x": null,
      "overflow_y": null,
      "padding": null,
      "right": null,
      "top": null,
      "visibility": null,
      "width": null
     }
    },
    "3a834c8e9a9243429db67ad1340a0d04": {
     "model_module": "@jupyter-widgets/controls",
     "model_module_version": "1.5.0",
     "model_name": "DescriptionStyleModel",
     "state": {
      "_model_module": "@jupyter-widgets/controls",
      "_model_module_version": "1.5.0",
      "_model_name": "DescriptionStyleModel",
      "_view_count": null,
      "_view_module": "@jupyter-widgets/base",
      "_view_module_version": "1.2.0",
      "_view_name": "StyleView",
      "description_width": ""
     }
    },
    "3cbee048164c41dc8fd6ec3f490f94d2": {
     "model_module": "@jupyter-widgets/base",
     "model_module_version": "1.2.0",
     "model_name": "LayoutModel",
     "state": {
      "_model_module": "@jupyter-widgets/base",
      "_model_module_version": "1.2.0",
      "_model_name": "LayoutModel",
      "_view_count": null,
      "_view_module": "@jupyter-widgets/base",
      "_view_module_version": "1.2.0",
      "_view_name": "LayoutView",
      "align_content": null,
      "align_items": null,
      "align_self": null,
      "border": null,
      "bottom": null,
      "display": null,
      "flex": null,
      "flex_flow": null,
      "grid_area": null,
      "grid_auto_columns": null,
      "grid_auto_flow": null,
      "grid_auto_rows": null,
      "grid_column": null,
      "grid_gap": null,
      "grid_row": null,
      "grid_template_areas": null,
      "grid_template_columns": null,
      "grid_template_rows": null,
      "height": null,
      "justify_content": null,
      "justify_items": null,
      "left": null,
      "margin": null,
      "max_height": null,
      "max_width": null,
      "min_height": null,
      "min_width": null,
      "object_fit": null,
      "object_position": null,
      "order": null,
      "overflow": null,
      "overflow_x": null,
      "overflow_y": null,
      "padding": null,
      "right": null,
      "top": null,
      "visibility": null,
      "width": null
     }
    },
    "3db8dea2c47e4241b9d614270b63e590": {
     "model_module": "@jupyter-widgets/base",
     "model_module_version": "1.2.0",
     "model_name": "LayoutModel",
     "state": {
      "_model_module": "@jupyter-widgets/base",
      "_model_module_version": "1.2.0",
      "_model_name": "LayoutModel",
      "_view_count": null,
      "_view_module": "@jupyter-widgets/base",
      "_view_module_version": "1.2.0",
      "_view_name": "LayoutView",
      "align_content": null,
      "align_items": null,
      "align_self": null,
      "border": null,
      "bottom": null,
      "display": null,
      "flex": null,
      "flex_flow": null,
      "grid_area": null,
      "grid_auto_columns": null,
      "grid_auto_flow": null,
      "grid_auto_rows": null,
      "grid_column": null,
      "grid_gap": null,
      "grid_row": null,
      "grid_template_areas": null,
      "grid_template_columns": null,
      "grid_template_rows": null,
      "height": null,
      "justify_content": null,
      "justify_items": null,
      "left": null,
      "margin": null,
      "max_height": null,
      "max_width": null,
      "min_height": null,
      "min_width": null,
      "object_fit": null,
      "object_position": null,
      "order": null,
      "overflow": null,
      "overflow_x": null,
      "overflow_y": null,
      "padding": null,
      "right": null,
      "top": null,
      "visibility": null,
      "width": null
     }
    },
    "409269dda536495baf8204a1106cacbe": {
     "model_module": "@jupyter-widgets/base",
     "model_module_version": "1.2.0",
     "model_name": "LayoutModel",
     "state": {
      "_model_module": "@jupyter-widgets/base",
      "_model_module_version": "1.2.0",
      "_model_name": "LayoutModel",
      "_view_count": null,
      "_view_module": "@jupyter-widgets/base",
      "_view_module_version": "1.2.0",
      "_view_name": "LayoutView",
      "align_content": null,
      "align_items": null,
      "align_self": null,
      "border": null,
      "bottom": null,
      "display": null,
      "flex": null,
      "flex_flow": null,
      "grid_area": null,
      "grid_auto_columns": null,
      "grid_auto_flow": null,
      "grid_auto_rows": null,
      "grid_column": null,
      "grid_gap": null,
      "grid_row": null,
      "grid_template_areas": null,
      "grid_template_columns": null,
      "grid_template_rows": null,
      "height": null,
      "justify_content": null,
      "justify_items": null,
      "left": null,
      "margin": null,
      "max_height": null,
      "max_width": null,
      "min_height": null,
      "min_width": null,
      "object_fit": null,
      "object_position": null,
      "order": null,
      "overflow": null,
      "overflow_x": null,
      "overflow_y": null,
      "padding": null,
      "right": null,
      "top": null,
      "visibility": null,
      "width": null
     }
    },
    "4540ecbf652a409ca55e35c4befac757": {
     "model_module": "@jupyter-widgets/controls",
     "model_module_version": "1.5.0",
     "model_name": "ProgressStyleModel",
     "state": {
      "_model_module": "@jupyter-widgets/controls",
      "_model_module_version": "1.5.0",
      "_model_name": "ProgressStyleModel",
      "_view_count": null,
      "_view_module": "@jupyter-widgets/base",
      "_view_module_version": "1.2.0",
      "_view_name": "StyleView",
      "bar_color": null,
      "description_width": ""
     }
    },
    "4691d13d012940b89b34db9b91e7b526": {
     "model_module": "@jupyter-widgets/base",
     "model_module_version": "1.2.0",
     "model_name": "LayoutModel",
     "state": {
      "_model_module": "@jupyter-widgets/base",
      "_model_module_version": "1.2.0",
      "_model_name": "LayoutModel",
      "_view_count": null,
      "_view_module": "@jupyter-widgets/base",
      "_view_module_version": "1.2.0",
      "_view_name": "LayoutView",
      "align_content": null,
      "align_items": null,
      "align_self": null,
      "border": null,
      "bottom": null,
      "display": null,
      "flex": null,
      "flex_flow": null,
      "grid_area": null,
      "grid_auto_columns": null,
      "grid_auto_flow": null,
      "grid_auto_rows": null,
      "grid_column": null,
      "grid_gap": null,
      "grid_row": null,
      "grid_template_areas": null,
      "grid_template_columns": null,
      "grid_template_rows": null,
      "height": null,
      "justify_content": null,
      "justify_items": null,
      "left": null,
      "margin": null,
      "max_height": null,
      "max_width": null,
      "min_height": null,
      "min_width": null,
      "object_fit": null,
      "object_position": null,
      "order": null,
      "overflow": null,
      "overflow_x": null,
      "overflow_y": null,
      "padding": null,
      "right": null,
      "top": null,
      "visibility": null,
      "width": null
     }
    },
    "4912521e4a204a4ebefe9982f25fe4c7": {
     "model_module": "@jupyter-widgets/base",
     "model_module_version": "1.2.0",
     "model_name": "LayoutModel",
     "state": {
      "_model_module": "@jupyter-widgets/base",
      "_model_module_version": "1.2.0",
      "_model_name": "LayoutModel",
      "_view_count": null,
      "_view_module": "@jupyter-widgets/base",
      "_view_module_version": "1.2.0",
      "_view_name": "LayoutView",
      "align_content": null,
      "align_items": null,
      "align_self": null,
      "border": null,
      "bottom": null,
      "display": null,
      "flex": null,
      "flex_flow": null,
      "grid_area": null,
      "grid_auto_columns": null,
      "grid_auto_flow": null,
      "grid_auto_rows": null,
      "grid_column": null,
      "grid_gap": null,
      "grid_row": null,
      "grid_template_areas": null,
      "grid_template_columns": null,
      "grid_template_rows": null,
      "height": null,
      "justify_content": null,
      "justify_items": null,
      "left": null,
      "margin": null,
      "max_height": null,
      "max_width": null,
      "min_height": null,
      "min_width": null,
      "object_fit": null,
      "object_position": null,
      "order": null,
      "overflow": null,
      "overflow_x": null,
      "overflow_y": null,
      "padding": null,
      "right": null,
      "top": null,
      "visibility": null,
      "width": null
     }
    },
    "4c4448a720554243b09fa6702303eced": {
     "model_module": "@jupyter-widgets/controls",
     "model_module_version": "1.5.0",
     "model_name": "ProgressStyleModel",
     "state": {
      "_model_module": "@jupyter-widgets/controls",
      "_model_module_version": "1.5.0",
      "_model_name": "ProgressStyleModel",
      "_view_count": null,
      "_view_module": "@jupyter-widgets/base",
      "_view_module_version": "1.2.0",
      "_view_name": "StyleView",
      "bar_color": null,
      "description_width": ""
     }
    },
    "51406c712eea409ab4890adb8f53251a": {
     "model_module": "@jupyter-widgets/base",
     "model_module_version": "1.2.0",
     "model_name": "LayoutModel",
     "state": {
      "_model_module": "@jupyter-widgets/base",
      "_model_module_version": "1.2.0",
      "_model_name": "LayoutModel",
      "_view_count": null,
      "_view_module": "@jupyter-widgets/base",
      "_view_module_version": "1.2.0",
      "_view_name": "LayoutView",
      "align_content": null,
      "align_items": null,
      "align_self": null,
      "border": null,
      "bottom": null,
      "display": null,
      "flex": null,
      "flex_flow": null,
      "grid_area": null,
      "grid_auto_columns": null,
      "grid_auto_flow": null,
      "grid_auto_rows": null,
      "grid_column": null,
      "grid_gap": null,
      "grid_row": null,
      "grid_template_areas": null,
      "grid_template_columns": null,
      "grid_template_rows": null,
      "height": null,
      "justify_content": null,
      "justify_items": null,
      "left": null,
      "margin": null,
      "max_height": null,
      "max_width": null,
      "min_height": null,
      "min_width": null,
      "object_fit": null,
      "object_position": null,
      "order": null,
      "overflow": null,
      "overflow_x": null,
      "overflow_y": null,
      "padding": null,
      "right": null,
      "top": null,
      "visibility": null,
      "width": null
     }
    },
    "5192fa018bcd4a91b798e57328cc6194": {
     "model_module": "@jupyter-widgets/controls",
     "model_module_version": "1.5.0",
     "model_name": "HBoxModel",
     "state": {
      "_dom_classes": [],
      "_model_module": "@jupyter-widgets/controls",
      "_model_module_version": "1.5.0",
      "_model_name": "HBoxModel",
      "_view_count": null,
      "_view_module": "@jupyter-widgets/controls",
      "_view_module_version": "1.5.0",
      "_view_name": "HBoxView",
      "box_style": "",
      "children": [
       "IPY_MODEL_57a25820e3c2432692b2f1d6d55ba35e",
       "IPY_MODEL_25dcd353d3024fb4a802b8cea9f8984d",
       "IPY_MODEL_a609609528174c9ea41ba4b266ebfb8c"
      ],
      "layout": "IPY_MODEL_dbfa8a7ef281478ea107e1239cd7970e"
     }
    },
    "537e0ca2c92e4a97a83e5a31e03c3db7": {
     "model_module": "@jupyter-widgets/controls",
     "model_module_version": "1.5.0",
     "model_name": "HTMLModel",
     "state": {
      "_dom_classes": [],
      "_model_module": "@jupyter-widgets/controls",
      "_model_module_version": "1.5.0",
      "_model_name": "HTMLModel",
      "_view_count": null,
      "_view_module": "@jupyter-widgets/controls",
      "_view_module_version": "1.5.0",
      "_view_name": "HTMLView",
      "description": "",
      "description_tooltip": null,
      "layout": "IPY_MODEL_87fe449c9f4445469e1088d74fabf8fb",
      "placeholder": "​",
      "style": "IPY_MODEL_cd8f50cb9a7b466a803808d2c261c2d2",
      "value": " 147/147 [00:00&lt;00:00, 7.73kB/s]"
     }
    },
    "57a25820e3c2432692b2f1d6d55ba35e": {
     "model_module": "@jupyter-widgets/controls",
     "model_module_version": "1.5.0",
     "model_name": "HTMLModel",
     "state": {
      "_dom_classes": [],
      "_model_module": "@jupyter-widgets/controls",
      "_model_module_version": "1.5.0",
      "_model_name": "HTMLModel",
      "_view_count": null,
      "_view_module": "@jupyter-widgets/controls",
      "_view_module_version": "1.5.0",
      "_view_name": "HTMLView",
      "description": "",
      "description_tooltip": null,
      "layout": "IPY_MODEL_0f743b8232d64f148031c925be7b5e46",
      "placeholder": "​",
      "style": "IPY_MODEL_dcb5b4eea5914f10a038e0b9d4dd28fe",
      "value": "config.json: 100%"
     }
    },
    "5cb86e7991f14ba4850ca008d6d48644": {
     "model_module": "@jupyter-widgets/controls",
     "model_module_version": "1.5.0",
     "model_name": "HTMLModel",
     "state": {
      "_dom_classes": [],
      "_model_module": "@jupyter-widgets/controls",
      "_model_module_version": "1.5.0",
      "_model_name": "HTMLModel",
      "_view_count": null,
      "_view_module": "@jupyter-widgets/controls",
      "_view_module_version": "1.5.0",
      "_view_name": "HTMLView",
      "description": "",
      "description_tooltip": null,
      "layout": "IPY_MODEL_f924e4a1ccfc43b0a67d80e1ef227200",
      "placeholder": "​",
      "style": "IPY_MODEL_3a834c8e9a9243429db67ad1340a0d04",
      "value": "tokenizer_config.json: 100%"
     }
    },
    "65d4e4c6c3d549dca87bcbdff1921162": {
     "model_module": "@jupyter-widgets/controls",
     "model_module_version": "1.5.0",
     "model_name": "HBoxModel",
     "state": {
      "_dom_classes": [],
      "_model_module": "@jupyter-widgets/controls",
      "_model_module_version": "1.5.0",
      "_model_name": "HBoxModel",
      "_view_count": null,
      "_view_module": "@jupyter-widgets/controls",
      "_view_module_version": "1.5.0",
      "_view_name": "HBoxView",
      "box_style": "",
      "children": [
       "IPY_MODEL_88109516267041b3af35a3778dfbbe0b",
       "IPY_MODEL_837e1911a7444dacb7a5f388bb6ec1fe",
       "IPY_MODEL_19f14abb355d444ea151181c506c394a"
      ],
      "layout": "IPY_MODEL_3db8dea2c47e4241b9d614270b63e590"
     }
    },
    "6705dd7b88e04388ac80652b38762aea": {
     "model_module": "@jupyter-widgets/base",
     "model_module_version": "1.2.0",
     "model_name": "LayoutModel",
     "state": {
      "_model_module": "@jupyter-widgets/base",
      "_model_module_version": "1.2.0",
      "_model_name": "LayoutModel",
      "_view_count": null,
      "_view_module": "@jupyter-widgets/base",
      "_view_module_version": "1.2.0",
      "_view_name": "LayoutView",
      "align_content": null,
      "align_items": null,
      "align_self": null,
      "border": null,
      "bottom": null,
      "display": null,
      "flex": null,
      "flex_flow": null,
      "grid_area": null,
      "grid_auto_columns": null,
      "grid_auto_flow": null,
      "grid_auto_rows": null,
      "grid_column": null,
      "grid_gap": null,
      "grid_row": null,
      "grid_template_areas": null,
      "grid_template_columns": null,
      "grid_template_rows": null,
      "height": null,
      "justify_content": null,
      "justify_items": null,
      "left": null,
      "margin": null,
      "max_height": null,
      "max_width": null,
      "min_height": null,
      "min_width": null,
      "object_fit": null,
      "object_position": null,
      "order": null,
      "overflow": null,
      "overflow_x": null,
      "overflow_y": null,
      "padding": null,
      "right": null,
      "top": null,
      "visibility": null,
      "width": null
     }
    },
    "6895091873da4420877e97df9ba85ffc": {
     "model_module": "@jupyter-widgets/controls",
     "model_module_version": "1.5.0",
     "model_name": "ProgressStyleModel",
     "state": {
      "_model_module": "@jupyter-widgets/controls",
      "_model_module_version": "1.5.0",
      "_model_name": "ProgressStyleModel",
      "_view_count": null,
      "_view_module": "@jupyter-widgets/base",
      "_view_module_version": "1.2.0",
      "_view_name": "StyleView",
      "bar_color": null,
      "description_width": ""
     }
    },
    "6c086b0924204b138cec1ced96b7476c": {
     "model_module": "@jupyter-widgets/controls",
     "model_module_version": "1.5.0",
     "model_name": "DescriptionStyleModel",
     "state": {
      "_model_module": "@jupyter-widgets/controls",
      "_model_module_version": "1.5.0",
      "_model_name": "DescriptionStyleModel",
      "_view_count": null,
      "_view_module": "@jupyter-widgets/base",
      "_view_module_version": "1.2.0",
      "_view_name": "StyleView",
      "description_width": ""
     }
    },
    "6c11e4527bb242efb61605f8cd1f18bf": {
     "model_module": "@jupyter-widgets/base",
     "model_module_version": "1.2.0",
     "model_name": "LayoutModel",
     "state": {
      "_model_module": "@jupyter-widgets/base",
      "_model_module_version": "1.2.0",
      "_model_name": "LayoutModel",
      "_view_count": null,
      "_view_module": "@jupyter-widgets/base",
      "_view_module_version": "1.2.0",
      "_view_name": "LayoutView",
      "align_content": null,
      "align_items": null,
      "align_self": null,
      "border": null,
      "bottom": null,
      "display": null,
      "flex": null,
      "flex_flow": null,
      "grid_area": null,
      "grid_auto_columns": null,
      "grid_auto_flow": null,
      "grid_auto_rows": null,
      "grid_column": null,
      "grid_gap": null,
      "grid_row": null,
      "grid_template_areas": null,
      "grid_template_columns": null,
      "grid_template_rows": null,
      "height": null,
      "justify_content": null,
      "justify_items": null,
      "left": null,
      "margin": null,
      "max_height": null,
      "max_width": null,
      "min_height": null,
      "min_width": null,
      "object_fit": null,
      "object_position": null,
      "order": null,
      "overflow": null,
      "overflow_x": null,
      "overflow_y": null,
      "padding": null,
      "right": null,
      "top": null,
      "visibility": null,
      "width": null
     }
    },
    "6d5086e3703f4edaab825cd8a20a30b8": {
     "model_module": "@jupyter-widgets/controls",
     "model_module_version": "1.5.0",
     "model_name": "FloatProgressModel",
     "state": {
      "_dom_classes": [],
      "_model_module": "@jupyter-widgets/controls",
      "_model_module_version": "1.5.0",
      "_model_name": "FloatProgressModel",
      "_view_count": null,
      "_view_module": "@jupyter-widgets/controls",
      "_view_module_version": "1.5.0",
      "_view_name": "ProgressView",
      "bar_style": "success",
      "description": "",
      "description_tooltip": null,
      "layout": "IPY_MODEL_9a4a6b6ee3ab4914a3788ab64533dd36",
      "max": 307867048,
      "min": 0,
      "orientation": "horizontal",
      "style": "IPY_MODEL_2013e54b10fa41afaac051ad78389d4c",
      "value": 307867048
     }
    },
    "723ddff2857949b4b1e8b54582be2861": {
     "model_module": "@jupyter-widgets/controls",
     "model_module_version": "1.5.0",
     "model_name": "HTMLModel",
     "state": {
      "_dom_classes": [],
      "_model_module": "@jupyter-widgets/controls",
      "_model_module_version": "1.5.0",
      "_model_name": "HTMLModel",
      "_view_count": null,
      "_view_module": "@jupyter-widgets/controls",
      "_view_module_version": "1.5.0",
      "_view_name": "HTMLView",
      "description": "",
      "description_tooltip": null,
      "layout": "IPY_MODEL_37a264f3b1984f07960a2ff2bd84460d",
      "placeholder": "​",
      "style": "IPY_MODEL_f7a11c036527418c94810e22329a8d00",
      "value": "model.safetensors: 100%"
     }
    },
    "75e59200e848452e9d26136622281aa4": {
     "model_module": "@jupyter-widgets/controls",
     "model_module_version": "1.5.0",
     "model_name": "ProgressStyleModel",
     "state": {
      "_model_module": "@jupyter-widgets/controls",
      "_model_module_version": "1.5.0",
      "_model_name": "ProgressStyleModel",
      "_view_count": null,
      "_view_module": "@jupyter-widgets/base",
      "_view_module_version": "1.2.0",
      "_view_name": "StyleView",
      "bar_color": null,
      "description_width": ""
     }
    },
    "768cf3ee4a5c45deac3b53afb7e5d03c": {
     "model_module": "@jupyter-widgets/base",
     "model_module_version": "1.2.0",
     "model_name": "LayoutModel",
     "state": {
      "_model_module": "@jupyter-widgets/base",
      "_model_module_version": "1.2.0",
      "_model_name": "LayoutModel",
      "_view_count": null,
      "_view_module": "@jupyter-widgets/base",
      "_view_module_version": "1.2.0",
      "_view_name": "LayoutView",
      "align_content": null,
      "align_items": null,
      "align_self": null,
      "border": null,
      "bottom": null,
      "display": null,
      "flex": null,
      "flex_flow": null,
      "grid_area": null,
      "grid_auto_columns": null,
      "grid_auto_flow": null,
      "grid_auto_rows": null,
      "grid_column": null,
      "grid_gap": null,
      "grid_row": null,
      "grid_template_areas": null,
      "grid_template_columns": null,
      "grid_template_rows": null,
      "height": null,
      "justify_content": null,
      "justify_items": null,
      "left": null,
      "margin": null,
      "max_height": null,
      "max_width": null,
      "min_height": null,
      "min_width": null,
      "object_fit": null,
      "object_position": null,
      "order": null,
      "overflow": null,
      "overflow_x": null,
      "overflow_y": null,
      "padding": null,
      "right": null,
      "top": null,
      "visibility": null,
      "width": null
     }
    },
    "77ca99b664334f709091a51f4ee3f729": {
     "model_module": "@jupyter-widgets/controls",
     "model_module_version": "1.5.0",
     "model_name": "DescriptionStyleModel",
     "state": {
      "_model_module": "@jupyter-widgets/controls",
      "_model_module_version": "1.5.0",
      "_model_name": "DescriptionStyleModel",
      "_view_count": null,
      "_view_module": "@jupyter-widgets/base",
      "_view_module_version": "1.2.0",
      "_view_name": "StyleView",
      "description_width": ""
     }
    },
    "789c6f5142354ec08d3593d3aff85410": {
     "model_module": "@jupyter-widgets/base",
     "model_module_version": "1.2.0",
     "model_name": "LayoutModel",
     "state": {
      "_model_module": "@jupyter-widgets/base",
      "_model_module_version": "1.2.0",
      "_model_name": "LayoutModel",
      "_view_count": null,
      "_view_module": "@jupyter-widgets/base",
      "_view_module_version": "1.2.0",
      "_view_name": "LayoutView",
      "align_content": null,
      "align_items": null,
      "align_self": null,
      "border": null,
      "bottom": null,
      "display": null,
      "flex": null,
      "flex_flow": null,
      "grid_area": null,
      "grid_auto_columns": null,
      "grid_auto_flow": null,
      "grid_auto_rows": null,
      "grid_column": null,
      "grid_gap": null,
      "grid_row": null,
      "grid_template_areas": null,
      "grid_template_columns": null,
      "grid_template_rows": null,
      "height": null,
      "justify_content": null,
      "justify_items": null,
      "left": null,
      "margin": null,
      "max_height": null,
      "max_width": null,
      "min_height": null,
      "min_width": null,
      "object_fit": null,
      "object_position": null,
      "order": null,
      "overflow": null,
      "overflow_x": null,
      "overflow_y": null,
      "padding": null,
      "right": null,
      "top": null,
      "visibility": null,
      "width": null
     }
    },
    "7c3e3bcc3113491089b52cad9bf79c30": {
     "model_module": "@jupyter-widgets/controls",
     "model_module_version": "1.5.0",
     "model_name": "ProgressStyleModel",
     "state": {
      "_model_module": "@jupyter-widgets/controls",
      "_model_module_version": "1.5.0",
      "_model_name": "ProgressStyleModel",
      "_view_count": null,
      "_view_module": "@jupyter-widgets/base",
      "_view_module_version": "1.2.0",
      "_view_name": "StyleView",
      "bar_color": null,
      "description_width": ""
     }
    },
    "81e73613fb7844a586eaa832b67fafdf": {
     "model_module": "@jupyter-widgets/controls",
     "model_module_version": "1.5.0",
     "model_name": "DescriptionStyleModel",
     "state": {
      "_model_module": "@jupyter-widgets/controls",
      "_model_module_version": "1.5.0",
      "_model_name": "DescriptionStyleModel",
      "_view_count": null,
      "_view_module": "@jupyter-widgets/base",
      "_view_module_version": "1.2.0",
      "_view_name": "StyleView",
      "description_width": ""
     }
    },
    "837e1911a7444dacb7a5f388bb6ec1fe": {
     "model_module": "@jupyter-widgets/controls",
     "model_module_version": "1.5.0",
     "model_name": "FloatProgressModel",
     "state": {
      "_dom_classes": [],
      "_model_module": "@jupyter-widgets/controls",
      "_model_module_version": "1.5.0",
      "_model_name": "FloatProgressModel",
      "_view_count": null,
      "_view_module": "@jupyter-widgets/controls",
      "_view_module_version": "1.5.0",
      "_view_name": "ProgressView",
      "bar_style": "success",
      "description": "",
      "description_tooltip": null,
      "layout": "IPY_MODEL_94a00a0cc52049859e849c42bcc35d94",
      "max": 11615,
      "min": 0,
      "orientation": "horizontal",
      "style": "IPY_MODEL_2ff4739c68b246c7b37b44ebd921cf0f",
      "value": 11615
     }
    },
    "869a801070e84fba9d58bcc7c7f8da7d": {
     "model_module": "@jupyter-widgets/controls",
     "model_module_version": "1.5.0",
     "model_name": "HTMLModel",
     "state": {
      "_dom_classes": [],
      "_model_module": "@jupyter-widgets/controls",
      "_model_module_version": "1.5.0",
      "_model_name": "HTMLModel",
      "_view_count": null,
      "_view_module": "@jupyter-widgets/controls",
      "_view_module_version": "1.5.0",
      "_view_name": "HTMLView",
      "description": "",
      "description_tooltip": null,
      "layout": "IPY_MODEL_e4345594e7f84652954a2e7c7ee274e4",
      "placeholder": "​",
      "style": "IPY_MODEL_9eed90070bd84105b84b34a5c0da50c4",
      "value": " 2.42M/2.42M [00:00&lt;00:00, 3.77MB/s]"
     }
    },
    "87fe449c9f4445469e1088d74fabf8fb": {
     "model_module": "@jupyter-widgets/base",
     "model_module_version": "1.2.0",
     "model_name": "LayoutModel",
     "state": {
      "_model_module": "@jupyter-widgets/base",
      "_model_module_version": "1.2.0",
      "_model_name": "LayoutModel",
      "_view_count": null,
      "_view_module": "@jupyter-widgets/base",
      "_view_module_version": "1.2.0",
      "_view_name": "LayoutView",
      "align_content": null,
      "align_items": null,
      "align_self": null,
      "border": null,
      "bottom": null,
      "display": null,
      "flex": null,
      "flex_flow": null,
      "grid_area": null,
      "grid_auto_columns": null,
      "grid_auto_flow": null,
      "grid_auto_rows": null,
      "grid_column": null,
      "grid_gap": null,
      "grid_row": null,
      "grid_template_areas": null,
      "grid_template_columns": null,
      "grid_template_rows": null,
      "height": null,
      "justify_content": null,
      "justify_items": null,
      "left": null,
      "margin": null,
      "max_height": null,
      "max_width": null,
      "min_height": null,
      "min_width": null,
      "object_fit": null,
      "object_position": null,
      "order": null,
      "overflow": null,
      "overflow_x": null,
      "overflow_y": null,
      "padding": null,
      "right": null,
      "top": null,
      "visibility": null,
      "width": null
     }
    },
    "88109516267041b3af35a3778dfbbe0b": {
     "model_module": "@jupyter-widgets/controls",
     "model_module_version": "1.5.0",
     "model_name": "HTMLModel",
     "state": {
      "_dom_classes": [],
      "_model_module": "@jupyter-widgets/controls",
      "_model_module_version": "1.5.0",
      "_model_name": "HTMLModel",
      "_view_count": null,
      "_view_module": "@jupyter-widgets/controls",
      "_view_module_version": "1.5.0",
      "_view_name": "HTMLView",
      "description": "",
      "description_tooltip": null,
      "layout": "IPY_MODEL_de44fdf0662747589867823c766dfa84",
      "placeholder": "​",
      "style": "IPY_MODEL_b122847324ad47eb92ab8b75f4328fb6",
      "value": "Map: 100%"
     }
    },
    "8c9ca850654040f78686bb95dce08528": {
     "model_module": "@jupyter-widgets/controls",
     "model_module_version": "1.5.0",
     "model_name": "DescriptionStyleModel",
     "state": {
      "_model_module": "@jupyter-widgets/controls",
      "_model_module_version": "1.5.0",
      "_model_name": "DescriptionStyleModel",
      "_view_count": null,
      "_view_module": "@jupyter-widgets/base",
      "_view_module_version": "1.2.0",
      "_view_name": "StyleView",
      "description_width": ""
     }
    },
    "8d1f0a1000b84044b257c811245925ea": {
     "model_module": "@jupyter-widgets/controls",
     "model_module_version": "1.5.0",
     "model_name": "HBoxModel",
     "state": {
      "_dom_classes": [],
      "_model_module": "@jupyter-widgets/controls",
      "_model_module_version": "1.5.0",
      "_model_name": "HBoxModel",
      "_view_count": null,
      "_view_module": "@jupyter-widgets/controls",
      "_view_module_version": "1.5.0",
      "_view_name": "HBoxView",
      "box_style": "",
      "children": [
       "IPY_MODEL_5cb86e7991f14ba4850ca008d6d48644",
       "IPY_MODEL_33e2412489bd4e69a6f4b3d5b5e0a1f8",
       "IPY_MODEL_35fceb9c561b4f2db1ee23b674d212e9"
      ],
      "layout": "IPY_MODEL_4691d13d012940b89b34db9b91e7b526"
     }
    },
    "8e2815773915420f83d7cb72c9356a39": {
     "model_module": "@jupyter-widgets/controls",
     "model_module_version": "1.5.0",
     "model_name": "HTMLModel",
     "state": {
      "_dom_classes": [],
      "_model_module": "@jupyter-widgets/controls",
      "_model_module_version": "1.5.0",
      "_model_name": "HTMLModel",
      "_view_count": null,
      "_view_module": "@jupyter-widgets/controls",
      "_view_module_version": "1.5.0",
      "_view_name": "HTMLView",
      "description": "",
      "description_tooltip": null,
      "layout": "IPY_MODEL_c21d4ab7aa0244789384bd29bdcb606b",
      "placeholder": "​",
      "style": "IPY_MODEL_8c9ca850654040f78686bb95dce08528",
      "value": "spiece.model: 100%"
     }
    },
    "91c08009e60d487d88cb0724f8336996": {
     "model_module": "@jupyter-widgets/base",
     "model_module_version": "1.2.0",
     "model_name": "LayoutModel",
     "state": {
      "_model_module": "@jupyter-widgets/base",
      "_model_module_version": "1.2.0",
      "_model_name": "LayoutModel",
      "_view_count": null,
      "_view_module": "@jupyter-widgets/base",
      "_view_module_version": "1.2.0",
      "_view_name": "LayoutView",
      "align_content": null,
      "align_items": null,
      "align_self": null,
      "border": null,
      "bottom": null,
      "display": null,
      "flex": null,
      "flex_flow": null,
      "grid_area": null,
      "grid_auto_columns": null,
      "grid_auto_flow": null,
      "grid_auto_rows": null,
      "grid_column": null,
      "grid_gap": null,
      "grid_row": null,
      "grid_template_areas": null,
      "grid_template_columns": null,
      "grid_template_rows": null,
      "height": null,
      "justify_content": null,
      "justify_items": null,
      "left": null,
      "margin": null,
      "max_height": null,
      "max_width": null,
      "min_height": null,
      "min_width": null,
      "object_fit": null,
      "object_position": null,
      "order": null,
      "overflow": null,
      "overflow_x": null,
      "overflow_y": null,
      "padding": null,
      "right": null,
      "top": null,
      "visibility": null,
      "width": null
     }
    },
    "94a00a0cc52049859e849c42bcc35d94": {
     "model_module": "@jupyter-widgets/base",
     "model_module_version": "1.2.0",
     "model_name": "LayoutModel",
     "state": {
      "_model_module": "@jupyter-widgets/base",
      "_model_module_version": "1.2.0",
      "_model_name": "LayoutModel",
      "_view_count": null,
      "_view_module": "@jupyter-widgets/base",
      "_view_module_version": "1.2.0",
      "_view_name": "LayoutView",
      "align_content": null,
      "align_items": null,
      "align_self": null,
      "border": null,
      "bottom": null,
      "display": null,
      "flex": null,
      "flex_flow": null,
      "grid_area": null,
      "grid_auto_columns": null,
      "grid_auto_flow": null,
      "grid_auto_rows": null,
      "grid_column": null,
      "grid_gap": null,
      "grid_row": null,
      "grid_template_areas": null,
      "grid_template_columns": null,
      "grid_template_rows": null,
      "height": null,
      "justify_content": null,
      "justify_items": null,
      "left": null,
      "margin": null,
      "max_height": null,
      "max_width": null,
      "min_height": null,
      "min_width": null,
      "object_fit": null,
      "object_position": null,
      "order": null,
      "overflow": null,
      "overflow_x": null,
      "overflow_y": null,
      "padding": null,
      "right": null,
      "top": null,
      "visibility": null,
      "width": null
     }
    },
    "9a4a6b6ee3ab4914a3788ab64533dd36": {
     "model_module": "@jupyter-widgets/base",
     "model_module_version": "1.2.0",
     "model_name": "LayoutModel",
     "state": {
      "_model_module": "@jupyter-widgets/base",
      "_model_module_version": "1.2.0",
      "_model_name": "LayoutModel",
      "_view_count": null,
      "_view_module": "@jupyter-widgets/base",
      "_view_module_version": "1.2.0",
      "_view_name": "LayoutView",
      "align_content": null,
      "align_items": null,
      "align_self": null,
      "border": null,
      "bottom": null,
      "display": null,
      "flex": null,
      "flex_flow": null,
      "grid_area": null,
      "grid_auto_columns": null,
      "grid_auto_flow": null,
      "grid_auto_rows": null,
      "grid_column": null,
      "grid_gap": null,
      "grid_row": null,
      "grid_template_areas": null,
      "grid_template_columns": null,
      "grid_template_rows": null,
      "height": null,
      "justify_content": null,
      "justify_items": null,
      "left": null,
      "margin": null,
      "max_height": null,
      "max_width": null,
      "min_height": null,
      "min_width": null,
      "object_fit": null,
      "object_position": null,
      "order": null,
      "overflow": null,
      "overflow_x": null,
      "overflow_y": null,
      "padding": null,
      "right": null,
      "top": null,
      "visibility": null,
      "width": null
     }
    },
    "9b852e6bab154f008a131f186a3bda0e": {
     "model_module": "@jupyter-widgets/base",
     "model_module_version": "1.2.0",
     "model_name": "LayoutModel",
     "state": {
      "_model_module": "@jupyter-widgets/base",
      "_model_module_version": "1.2.0",
      "_model_name": "LayoutModel",
      "_view_count": null,
      "_view_module": "@jupyter-widgets/base",
      "_view_module_version": "1.2.0",
      "_view_name": "LayoutView",
      "align_content": null,
      "align_items": null,
      "align_self": null,
      "border": null,
      "bottom": null,
      "display": null,
      "flex": null,
      "flex_flow": null,
      "grid_area": null,
      "grid_auto_columns": null,
      "grid_auto_flow": null,
      "grid_auto_rows": null,
      "grid_column": null,
      "grid_gap": null,
      "grid_row": null,
      "grid_template_areas": null,
      "grid_template_columns": null,
      "grid_template_rows": null,
      "height": null,
      "justify_content": null,
      "justify_items": null,
      "left": null,
      "margin": null,
      "max_height": null,
      "max_width": null,
      "min_height": null,
      "min_width": null,
      "object_fit": null,
      "object_position": null,
      "order": null,
      "overflow": null,
      "overflow_x": null,
      "overflow_y": null,
      "padding": null,
      "right": null,
      "top": null,
      "visibility": null,
      "width": null
     }
    },
    "9bcb373a06ca42b398f7641d605d9b9b": {
     "model_module": "@jupyter-widgets/base",
     "model_module_version": "1.2.0",
     "model_name": "LayoutModel",
     "state": {
      "_model_module": "@jupyter-widgets/base",
      "_model_module_version": "1.2.0",
      "_model_name": "LayoutModel",
      "_view_count": null,
      "_view_module": "@jupyter-widgets/base",
      "_view_module_version": "1.2.0",
      "_view_name": "LayoutView",
      "align_content": null,
      "align_items": null,
      "align_self": null,
      "border": null,
      "bottom": null,
      "display": null,
      "flex": null,
      "flex_flow": null,
      "grid_area": null,
      "grid_auto_columns": null,
      "grid_auto_flow": null,
      "grid_auto_rows": null,
      "grid_column": null,
      "grid_gap": null,
      "grid_row": null,
      "grid_template_areas": null,
      "grid_template_columns": null,
      "grid_template_rows": null,
      "height": null,
      "justify_content": null,
      "justify_items": null,
      "left": null,
      "margin": null,
      "max_height": null,
      "max_width": null,
      "min_height": null,
      "min_width": null,
      "object_fit": null,
      "object_position": null,
      "order": null,
      "overflow": null,
      "overflow_x": null,
      "overflow_y": null,
      "padding": null,
      "right": null,
      "top": null,
      "visibility": null,
      "width": null
     }
    },
    "9eed90070bd84105b84b34a5c0da50c4": {
     "model_module": "@jupyter-widgets/controls",
     "model_module_version": "1.5.0",
     "model_name": "DescriptionStyleModel",
     "state": {
      "_model_module": "@jupyter-widgets/controls",
      "_model_module_version": "1.5.0",
      "_model_name": "DescriptionStyleModel",
      "_view_count": null,
      "_view_module": "@jupyter-widgets/base",
      "_view_module_version": "1.2.0",
      "_view_name": "StyleView",
      "description_width": ""
     }
    },
    "a609609528174c9ea41ba4b266ebfb8c": {
     "model_module": "@jupyter-widgets/controls",
     "model_module_version": "1.5.0",
     "model_name": "HTMLModel",
     "state": {
      "_dom_classes": [],
      "_model_module": "@jupyter-widgets/controls",
      "_model_module_version": "1.5.0",
      "_model_name": "HTMLModel",
      "_view_count": null,
      "_view_module": "@jupyter-widgets/controls",
      "_view_module_version": "1.5.0",
      "_view_name": "HTMLView",
      "description": "",
      "description_tooltip": null,
      "layout": "IPY_MODEL_6c11e4527bb242efb61605f8cd1f18bf",
      "placeholder": "​",
      "style": "IPY_MODEL_81e73613fb7844a586eaa832b67fafdf",
      "value": " 1.40k/1.40k [00:00&lt;00:00, 103kB/s]"
     }
    },
    "b02c895f4f25467fa7d72798ea40869b": {
     "model_module": "@jupyter-widgets/controls",
     "model_module_version": "1.5.0",
     "model_name": "DescriptionStyleModel",
     "state": {
      "_model_module": "@jupyter-widgets/controls",
      "_model_module_version": "1.5.0",
      "_model_name": "DescriptionStyleModel",
      "_view_count": null,
      "_view_module": "@jupyter-widgets/base",
      "_view_module_version": "1.2.0",
      "_view_name": "StyleView",
      "description_width": ""
     }
    },
    "b07f286a7b7445fa863c87d1e5ea40a6": {
     "model_module": "@jupyter-widgets/controls",
     "model_module_version": "1.5.0",
     "model_name": "HTMLModel",
     "state": {
      "_dom_classes": [],
      "_model_module": "@jupyter-widgets/controls",
      "_model_module_version": "1.5.0",
      "_model_name": "HTMLModel",
      "_view_count": null,
      "_view_module": "@jupyter-widgets/controls",
      "_view_module_version": "1.5.0",
      "_view_name": "HTMLView",
      "description": "",
      "description_tooltip": null,
      "layout": "IPY_MODEL_9bcb373a06ca42b398f7641d605d9b9b",
      "placeholder": "​",
      "style": "IPY_MODEL_6c086b0924204b138cec1ced96b7476c",
      "value": " 792k/792k [00:00&lt;00:00, 21.8MB/s]"
     }
    },
    "b122847324ad47eb92ab8b75f4328fb6": {
     "model_module": "@jupyter-widgets/controls",
     "model_module_version": "1.5.0",
     "model_name": "DescriptionStyleModel",
     "state": {
      "_model_module": "@jupyter-widgets/controls",
      "_model_module_version": "1.5.0",
      "_model_name": "DescriptionStyleModel",
      "_view_count": null,
      "_view_module": "@jupyter-widgets/base",
      "_view_module_version": "1.2.0",
      "_view_name": "StyleView",
      "description_width": ""
     }
    },
    "b4565582987e49f5841bf9eabceaf6d4": {
     "model_module": "@jupyter-widgets/controls",
     "model_module_version": "1.5.0",
     "model_name": "FloatProgressModel",
     "state": {
      "_dom_classes": [],
      "_model_module": "@jupyter-widgets/controls",
      "_model_module_version": "1.5.0",
      "_model_name": "FloatProgressModel",
      "_view_count": null,
      "_view_module": "@jupyter-widgets/controls",
      "_view_module_version": "1.5.0",
      "_view_name": "ProgressView",
      "bar_style": "success",
      "description": "",
      "description_tooltip": null,
      "layout": "IPY_MODEL_409269dda536495baf8204a1106cacbe",
      "max": 791656,
      "min": 0,
      "orientation": "horizontal",
      "style": "IPY_MODEL_eb8a53f1d8fc43b0a29d7cf30c498e6b",
      "value": 791656
     }
    },
    "bd65a8a60dbf400e8bb35d34d7c5c85a": {
     "model_module": "@jupyter-widgets/controls",
     "model_module_version": "1.5.0",
     "model_name": "HBoxModel",
     "state": {
      "_dom_classes": [],
      "_model_module": "@jupyter-widgets/controls",
      "_model_module_version": "1.5.0",
      "_model_name": "HBoxModel",
      "_view_count": null,
      "_view_module": "@jupyter-widgets/controls",
      "_view_module_version": "1.5.0",
      "_view_name": "HBoxView",
      "box_style": "",
      "children": [
       "IPY_MODEL_c4e5e3c2d40a4e8797baf43719d13fd1",
       "IPY_MODEL_c54141c8f8a8457d8a7a4d29a8390e4d",
       "IPY_MODEL_2fabd43d167c4b8a90b26fd07b1e2433"
      ],
      "layout": "IPY_MODEL_01123131b2d3448e8f58e28c0fa285d2"
     }
    },
    "bd6ac619a11349a78093c07baae136e3": {
     "model_module": "@jupyter-widgets/base",
     "model_module_version": "1.2.0",
     "model_name": "LayoutModel",
     "state": {
      "_model_module": "@jupyter-widgets/base",
      "_model_module_version": "1.2.0",
      "_model_name": "LayoutModel",
      "_view_count": null,
      "_view_module": "@jupyter-widgets/base",
      "_view_module_version": "1.2.0",
      "_view_name": "LayoutView",
      "align_content": null,
      "align_items": null,
      "align_self": null,
      "border": null,
      "bottom": null,
      "display": null,
      "flex": null,
      "flex_flow": null,
      "grid_area": null,
      "grid_auto_columns": null,
      "grid_auto_flow": null,
      "grid_auto_rows": null,
      "grid_column": null,
      "grid_gap": null,
      "grid_row": null,
      "grid_template_areas": null,
      "grid_template_columns": null,
      "grid_template_rows": null,
      "height": null,
      "justify_content": null,
      "justify_items": null,
      "left": null,
      "margin": null,
      "max_height": null,
      "max_width": null,
      "min_height": null,
      "min_width": null,
      "object_fit": null,
      "object_position": null,
      "order": null,
      "overflow": null,
      "overflow_x": null,
      "overflow_y": null,
      "padding": null,
      "right": null,
      "top": null,
      "visibility": null,
      "width": null
     }
    },
    "c0990874c741431697552351ae5b5d28": {
     "model_module": "@jupyter-widgets/base",
     "model_module_version": "1.2.0",
     "model_name": "LayoutModel",
     "state": {
      "_model_module": "@jupyter-widgets/base",
      "_model_module_version": "1.2.0",
      "_model_name": "LayoutModel",
      "_view_count": null,
      "_view_module": "@jupyter-widgets/base",
      "_view_module_version": "1.2.0",
      "_view_name": "LayoutView",
      "align_content": null,
      "align_items": null,
      "align_self": null,
      "border": null,
      "bottom": null,
      "display": null,
      "flex": null,
      "flex_flow": null,
      "grid_area": null,
      "grid_auto_columns": null,
      "grid_auto_flow": null,
      "grid_auto_rows": null,
      "grid_column": null,
      "grid_gap": null,
      "grid_row": null,
      "grid_template_areas": null,
      "grid_template_columns": null,
      "grid_template_rows": null,
      "height": null,
      "justify_content": null,
      "justify_items": null,
      "left": null,
      "margin": null,
      "max_height": null,
      "max_width": null,
      "min_height": null,
      "min_width": null,
      "object_fit": null,
      "object_position": null,
      "order": null,
      "overflow": null,
      "overflow_x": null,
      "overflow_y": null,
      "padding": null,
      "right": null,
      "top": null,
      "visibility": null,
      "width": null
     }
    },
    "c1841dc5d98648168f956183e0704af5": {
     "model_module": "@jupyter-widgets/controls",
     "model_module_version": "1.5.0",
     "model_name": "DescriptionStyleModel",
     "state": {
      "_model_module": "@jupyter-widgets/controls",
      "_model_module_version": "1.5.0",
      "_model_name": "DescriptionStyleModel",
      "_view_count": null,
      "_view_module": "@jupyter-widgets/base",
      "_view_module_version": "1.2.0",
      "_view_name": "StyleView",
      "description_width": ""
     }
    },
    "c21d4ab7aa0244789384bd29bdcb606b": {
     "model_module": "@jupyter-widgets/base",
     "model_module_version": "1.2.0",
     "model_name": "LayoutModel",
     "state": {
      "_model_module": "@jupyter-widgets/base",
      "_model_module_version": "1.2.0",
      "_model_name": "LayoutModel",
      "_view_count": null,
      "_view_module": "@jupyter-widgets/base",
      "_view_module_version": "1.2.0",
      "_view_name": "LayoutView",
      "align_content": null,
      "align_items": null,
      "align_self": null,
      "border": null,
      "bottom": null,
      "display": null,
      "flex": null,
      "flex_flow": null,
      "grid_area": null,
      "grid_auto_columns": null,
      "grid_auto_flow": null,
      "grid_auto_rows": null,
      "grid_column": null,
      "grid_gap": null,
      "grid_row": null,
      "grid_template_areas": null,
      "grid_template_columns": null,
      "grid_template_rows": null,
      "height": null,
      "justify_content": null,
      "justify_items": null,
      "left": null,
      "margin": null,
      "max_height": null,
      "max_width": null,
      "min_height": null,
      "min_width": null,
      "object_fit": null,
      "object_position": null,
      "order": null,
      "overflow": null,
      "overflow_x": null,
      "overflow_y": null,
      "padding": null,
      "right": null,
      "top": null,
      "visibility": null,
      "width": null
     }
    },
    "c4e5e3c2d40a4e8797baf43719d13fd1": {
     "model_module": "@jupyter-widgets/controls",
     "model_module_version": "1.5.0",
     "model_name": "HTMLModel",
     "state": {
      "_dom_classes": [],
      "_model_module": "@jupyter-widgets/controls",
      "_model_module_version": "1.5.0",
      "_model_name": "HTMLModel",
      "_view_count": null,
      "_view_module": "@jupyter-widgets/controls",
      "_view_module_version": "1.5.0",
      "_view_name": "HTMLView",
      "description": "",
      "description_tooltip": null,
      "layout": "IPY_MODEL_2a05658aa5a449c4922a6bde130926fa",
      "placeholder": "​",
      "style": "IPY_MODEL_04967fa6ca00498fad47bcb29ecbc5e3",
      "value": "special_tokens_map.json: 100%"
     }
    },
    "c54141c8f8a8457d8a7a4d29a8390e4d": {
     "model_module": "@jupyter-widgets/controls",
     "model_module_version": "1.5.0",
     "model_name": "FloatProgressModel",
     "state": {
      "_dom_classes": [],
      "_model_module": "@jupyter-widgets/controls",
      "_model_module_version": "1.5.0",
      "_model_name": "FloatProgressModel",
      "_view_count": null,
      "_view_module": "@jupyter-widgets/controls",
      "_view_module_version": "1.5.0",
      "_view_name": "ProgressView",
      "bar_style": "success",
      "description": "",
      "description_tooltip": null,
      "layout": "IPY_MODEL_789c6f5142354ec08d3593d3aff85410",
      "max": 2201,
      "min": 0,
      "orientation": "horizontal",
      "style": "IPY_MODEL_75e59200e848452e9d26136622281aa4",
      "value": 2201
     }
    },
    "c909958bf9bb49e095ba0259c383b79e": {
     "model_module": "@jupyter-widgets/controls",
     "model_module_version": "1.5.0",
     "model_name": "FloatProgressModel",
     "state": {
      "_dom_classes": [],
      "_model_module": "@jupyter-widgets/controls",
      "_model_module_version": "1.5.0",
      "_model_name": "FloatProgressModel",
      "_view_count": null,
      "_view_module": "@jupyter-widgets/controls",
      "_view_module_version": "1.5.0",
      "_view_name": "ProgressView",
      "bar_style": "success",
      "description": "",
      "description_tooltip": null,
      "layout": "IPY_MODEL_9b852e6bab154f008a131f186a3bda0e",
      "max": 2424064,
      "min": 0,
      "orientation": "horizontal",
      "style": "IPY_MODEL_4540ecbf652a409ca55e35c4befac757",
      "value": 2424064
     }
    },
    "c9a1261c182746a19c242997611f10e9": {
     "model_module": "@jupyter-widgets/controls",
     "model_module_version": "1.5.0",
     "model_name": "HBoxModel",
     "state": {
      "_dom_classes": [],
      "_model_module": "@jupyter-widgets/controls",
      "_model_module_version": "1.5.0",
      "_model_name": "HBoxModel",
      "_view_count": null,
      "_view_module": "@jupyter-widgets/controls",
      "_view_module_version": "1.5.0",
      "_view_name": "HBoxView",
      "box_style": "",
      "children": [
       "IPY_MODEL_723ddff2857949b4b1e8b54582be2861",
       "IPY_MODEL_6d5086e3703f4edaab825cd8a20a30b8",
       "IPY_MODEL_3621d0423d1f4b79b4090e349e3efd90"
      ],
      "layout": "IPY_MODEL_3cbee048164c41dc8fd6ec3f490f94d2"
     }
    },
    "caeb05d98b7e4c5f93b2586ad7a053e5": {
     "model_module": "@jupyter-widgets/controls",
     "model_module_version": "1.5.0",
     "model_name": "DescriptionStyleModel",
     "state": {
      "_model_module": "@jupyter-widgets/controls",
      "_model_module_version": "1.5.0",
      "_model_name": "DescriptionStyleModel",
      "_view_count": null,
      "_view_module": "@jupyter-widgets/base",
      "_view_module_version": "1.2.0",
      "_view_name": "StyleView",
      "description_width": ""
     }
    },
    "cd8f50cb9a7b466a803808d2c261c2d2": {
     "model_module": "@jupyter-widgets/controls",
     "model_module_version": "1.5.0",
     "model_name": "DescriptionStyleModel",
     "state": {
      "_model_module": "@jupyter-widgets/controls",
      "_model_module_version": "1.5.0",
      "_model_name": "DescriptionStyleModel",
      "_view_count": null,
      "_view_module": "@jupyter-widgets/base",
      "_view_module_version": "1.2.0",
      "_view_name": "StyleView",
      "description_width": ""
     }
    },
    "d05f5460e4834a79a13b06b2c8815d5d": {
     "model_module": "@jupyter-widgets/controls",
     "model_module_version": "1.5.0",
     "model_name": "DescriptionStyleModel",
     "state": {
      "_model_module": "@jupyter-widgets/controls",
      "_model_module_version": "1.5.0",
      "_model_name": "DescriptionStyleModel",
      "_view_count": null,
      "_view_module": "@jupyter-widgets/base",
      "_view_module_version": "1.2.0",
      "_view_name": "StyleView",
      "description_width": ""
     }
    },
    "dbf4864bf4464aadb16e53fb23114042": {
     "model_module": "@jupyter-widgets/controls",
     "model_module_version": "1.5.0",
     "model_name": "DescriptionStyleModel",
     "state": {
      "_model_module": "@jupyter-widgets/controls",
      "_model_module_version": "1.5.0",
      "_model_name": "DescriptionStyleModel",
      "_view_count": null,
      "_view_module": "@jupyter-widgets/base",
      "_view_module_version": "1.2.0",
      "_view_name": "StyleView",
      "description_width": ""
     }
    },
    "dbfa8a7ef281478ea107e1239cd7970e": {
     "model_module": "@jupyter-widgets/base",
     "model_module_version": "1.2.0",
     "model_name": "LayoutModel",
     "state": {
      "_model_module": "@jupyter-widgets/base",
      "_model_module_version": "1.2.0",
      "_model_name": "LayoutModel",
      "_view_count": null,
      "_view_module": "@jupyter-widgets/base",
      "_view_module_version": "1.2.0",
      "_view_name": "LayoutView",
      "align_content": null,
      "align_items": null,
      "align_self": null,
      "border": null,
      "bottom": null,
      "display": null,
      "flex": null,
      "flex_flow": null,
      "grid_area": null,
      "grid_auto_columns": null,
      "grid_auto_flow": null,
      "grid_auto_rows": null,
      "grid_column": null,
      "grid_gap": null,
      "grid_row": null,
      "grid_template_areas": null,
      "grid_template_columns": null,
      "grid_template_rows": null,
      "height": null,
      "justify_content": null,
      "justify_items": null,
      "left": null,
      "margin": null,
      "max_height": null,
      "max_width": null,
      "min_height": null,
      "min_width": null,
      "object_fit": null,
      "object_position": null,
      "order": null,
      "overflow": null,
      "overflow_x": null,
      "overflow_y": null,
      "padding": null,
      "right": null,
      "top": null,
      "visibility": null,
      "width": null
     }
    },
    "dcb5b4eea5914f10a038e0b9d4dd28fe": {
     "model_module": "@jupyter-widgets/controls",
     "model_module_version": "1.5.0",
     "model_name": "DescriptionStyleModel",
     "state": {
      "_model_module": "@jupyter-widgets/controls",
      "_model_module_version": "1.5.0",
      "_model_name": "DescriptionStyleModel",
      "_view_count": null,
      "_view_module": "@jupyter-widgets/base",
      "_view_module_version": "1.2.0",
      "_view_name": "StyleView",
      "description_width": ""
     }
    },
    "de44fdf0662747589867823c766dfa84": {
     "model_module": "@jupyter-widgets/base",
     "model_module_version": "1.2.0",
     "model_name": "LayoutModel",
     "state": {
      "_model_module": "@jupyter-widgets/base",
      "_model_module_version": "1.2.0",
      "_model_name": "LayoutModel",
      "_view_count": null,
      "_view_module": "@jupyter-widgets/base",
      "_view_module_version": "1.2.0",
      "_view_name": "LayoutView",
      "align_content": null,
      "align_items": null,
      "align_self": null,
      "border": null,
      "bottom": null,
      "display": null,
      "flex": null,
      "flex_flow": null,
      "grid_area": null,
      "grid_auto_columns": null,
      "grid_auto_flow": null,
      "grid_auto_rows": null,
      "grid_column": null,
      "grid_gap": null,
      "grid_row": null,
      "grid_template_areas": null,
      "grid_template_columns": null,
      "grid_template_rows": null,
      "height": null,
      "justify_content": null,
      "justify_items": null,
      "left": null,
      "margin": null,
      "max_height": null,
      "max_width": null,
      "min_height": null,
      "min_width": null,
      "object_fit": null,
      "object_position": null,
      "order": null,
      "overflow": null,
      "overflow_x": null,
      "overflow_y": null,
      "padding": null,
      "right": null,
      "top": null,
      "visibility": null,
      "width": null
     }
    },
    "e3394a527492478f84e9b0a5b25e7d17": {
     "model_module": "@jupyter-widgets/base",
     "model_module_version": "1.2.0",
     "model_name": "LayoutModel",
     "state": {
      "_model_module": "@jupyter-widgets/base",
      "_model_module_version": "1.2.0",
      "_model_name": "LayoutModel",
      "_view_count": null,
      "_view_module": "@jupyter-widgets/base",
      "_view_module_version": "1.2.0",
      "_view_name": "LayoutView",
      "align_content": null,
      "align_items": null,
      "align_self": null,
      "border": null,
      "bottom": null,
      "display": null,
      "flex": null,
      "flex_flow": null,
      "grid_area": null,
      "grid_auto_columns": null,
      "grid_auto_flow": null,
      "grid_auto_rows": null,
      "grid_column": null,
      "grid_gap": null,
      "grid_row": null,
      "grid_template_areas": null,
      "grid_template_columns": null,
      "grid_template_rows": null,
      "height": null,
      "justify_content": null,
      "justify_items": null,
      "left": null,
      "margin": null,
      "max_height": null,
      "max_width": null,
      "min_height": null,
      "min_width": null,
      "object_fit": null,
      "object_position": null,
      "order": null,
      "overflow": null,
      "overflow_x": null,
      "overflow_y": null,
      "padding": null,
      "right": null,
      "top": null,
      "visibility": null,
      "width": null
     }
    },
    "e4345594e7f84652954a2e7c7ee274e4": {
     "model_module": "@jupyter-widgets/base",
     "model_module_version": "1.2.0",
     "model_name": "LayoutModel",
     "state": {
      "_model_module": "@jupyter-widgets/base",
      "_model_module_version": "1.2.0",
      "_model_name": "LayoutModel",
      "_view_count": null,
      "_view_module": "@jupyter-widgets/base",
      "_view_module_version": "1.2.0",
      "_view_name": "LayoutView",
      "align_content": null,
      "align_items": null,
      "align_self": null,
      "border": null,
      "bottom": null,
      "display": null,
      "flex": null,
      "flex_flow": null,
      "grid_area": null,
      "grid_auto_columns": null,
      "grid_auto_flow": null,
      "grid_auto_rows": null,
      "grid_column": null,
      "grid_gap": null,
      "grid_row": null,
      "grid_template_areas": null,
      "grid_template_columns": null,
      "grid_template_rows": null,
      "height": null,
      "justify_content": null,
      "justify_items": null,
      "left": null,
      "margin": null,
      "max_height": null,
      "max_width": null,
      "min_height": null,
      "min_width": null,
      "object_fit": null,
      "object_position": null,
      "order": null,
      "overflow": null,
      "overflow_x": null,
      "overflow_y": null,
      "padding": null,
      "right": null,
      "top": null,
      "visibility": null,
      "width": null
     }
    },
    "e6a9877fee74494bb3cd1fa3786a2c92": {
     "model_module": "@jupyter-widgets/controls",
     "model_module_version": "1.5.0",
     "model_name": "HTMLModel",
     "state": {
      "_dom_classes": [],
      "_model_module": "@jupyter-widgets/controls",
      "_model_module_version": "1.5.0",
      "_model_name": "HTMLModel",
      "_view_count": null,
      "_view_module": "@jupyter-widgets/controls",
      "_view_module_version": "1.5.0",
      "_view_name": "HTMLView",
      "description": "",
      "description_tooltip": null,
      "layout": "IPY_MODEL_768cf3ee4a5c45deac3b53afb7e5d03c",
      "placeholder": "​",
      "style": "IPY_MODEL_caeb05d98b7e4c5f93b2586ad7a053e5",
      "value": "tokenizer.json: 100%"
     }
    },
    "e7da931968b640e9b85278ed746af268": {
     "model_module": "@jupyter-widgets/controls",
     "model_module_version": "1.5.0",
     "model_name": "HBoxModel",
     "state": {
      "_dom_classes": [],
      "_model_module": "@jupyter-widgets/controls",
      "_model_module_version": "1.5.0",
      "_model_name": "HBoxModel",
      "_view_count": null,
      "_view_module": "@jupyter-widgets/controls",
      "_view_module_version": "1.5.0",
      "_view_name": "HBoxView",
      "box_style": "",
      "children": [
       "IPY_MODEL_fcee53ecd5a2454a8dab5b9b71247f1e",
       "IPY_MODEL_14801b2076c64b23aa1013a52a9ad963",
       "IPY_MODEL_537e0ca2c92e4a97a83e5a31e03c3db7"
      ],
      "layout": "IPY_MODEL_1493506d33b54a9bb72c00e89f261933"
     }
    },
    "eb8a53f1d8fc43b0a29d7cf30c498e6b": {
     "model_module": "@jupyter-widgets/controls",
     "model_module_version": "1.5.0",
     "model_name": "ProgressStyleModel",
     "state": {
      "_model_module": "@jupyter-widgets/controls",
      "_model_module_version": "1.5.0",
      "_model_name": "ProgressStyleModel",
      "_view_count": null,
      "_view_module": "@jupyter-widgets/base",
      "_view_module_version": "1.2.0",
      "_view_name": "StyleView",
      "bar_color": null,
      "description_width": ""
     }
    },
    "f32b458111ad41c392b64fc0c398c70b": {
     "model_module": "@jupyter-widgets/controls",
     "model_module_version": "1.5.0",
     "model_name": "HBoxModel",
     "state": {
      "_dom_classes": [],
      "_model_module": "@jupyter-widgets/controls",
      "_model_module_version": "1.5.0",
      "_model_name": "HBoxModel",
      "_view_count": null,
      "_view_module": "@jupyter-widgets/controls",
      "_view_module_version": "1.5.0",
      "_view_name": "HBoxView",
      "box_style": "",
      "children": [
       "IPY_MODEL_e6a9877fee74494bb3cd1fa3786a2c92",
       "IPY_MODEL_c909958bf9bb49e095ba0259c383b79e",
       "IPY_MODEL_869a801070e84fba9d58bcc7c7f8da7d"
      ],
      "layout": "IPY_MODEL_f7dc7518b10a444d9cd740c4f059c756"
     }
    },
    "f7a11c036527418c94810e22329a8d00": {
     "model_module": "@jupyter-widgets/controls",
     "model_module_version": "1.5.0",
     "model_name": "DescriptionStyleModel",
     "state": {
      "_model_module": "@jupyter-widgets/controls",
      "_model_module_version": "1.5.0",
      "_model_name": "DescriptionStyleModel",
      "_view_count": null,
      "_view_module": "@jupyter-widgets/base",
      "_view_module_version": "1.2.0",
      "_view_name": "StyleView",
      "description_width": ""
     }
    },
    "f7dc7518b10a444d9cd740c4f059c756": {
     "model_module": "@jupyter-widgets/base",
     "model_module_version": "1.2.0",
     "model_name": "LayoutModel",
     "state": {
      "_model_module": "@jupyter-widgets/base",
      "_model_module_version": "1.2.0",
      "_model_name": "LayoutModel",
      "_view_count": null,
      "_view_module": "@jupyter-widgets/base",
      "_view_module_version": "1.2.0",
      "_view_name": "LayoutView",
      "align_content": null,
      "align_items": null,
      "align_self": null,
      "border": null,
      "bottom": null,
      "display": null,
      "flex": null,
      "flex_flow": null,
      "grid_area": null,
      "grid_auto_columns": null,
      "grid_auto_flow": null,
      "grid_auto_rows": null,
      "grid_column": null,
      "grid_gap": null,
      "grid_row": null,
      "grid_template_areas": null,
      "grid_template_columns": null,
      "grid_template_rows": null,
      "height": null,
      "justify_content": null,
      "justify_items": null,
      "left": null,
      "margin": null,
      "max_height": null,
      "max_width": null,
      "min_height": null,
      "min_width": null,
      "object_fit": null,
      "object_position": null,
      "order": null,
      "overflow": null,
      "overflow_x": null,
      "overflow_y": null,
      "padding": null,
      "right": null,
      "top": null,
      "visibility": null,
      "width": null
     }
    },
    "f924e4a1ccfc43b0a67d80e1ef227200": {
     "model_module": "@jupyter-widgets/base",
     "model_module_version": "1.2.0",
     "model_name": "LayoutModel",
     "state": {
      "_model_module": "@jupyter-widgets/base",
      "_model_module_version": "1.2.0",
      "_model_name": "LayoutModel",
      "_view_count": null,
      "_view_module": "@jupyter-widgets/base",
      "_view_module_version": "1.2.0",
      "_view_name": "LayoutView",
      "align_content": null,
      "align_items": null,
      "align_self": null,
      "border": null,
      "bottom": null,
      "display": null,
      "flex": null,
      "flex_flow": null,
      "grid_area": null,
      "grid_auto_columns": null,
      "grid_auto_flow": null,
      "grid_auto_rows": null,
      "grid_column": null,
      "grid_gap": null,
      "grid_row": null,
      "grid_template_areas": null,
      "grid_template_columns": null,
      "grid_template_rows": null,
      "height": null,
      "justify_content": null,
      "justify_items": null,
      "left": null,
      "margin": null,
      "max_height": null,
      "max_width": null,
      "min_height": null,
      "min_width": null,
      "object_fit": null,
      "object_position": null,
      "order": null,
      "overflow": null,
      "overflow_x": null,
      "overflow_y": null,
      "padding": null,
      "right": null,
      "top": null,
      "visibility": null,
      "width": null
     }
    },
    "fcee53ecd5a2454a8dab5b9b71247f1e": {
     "model_module": "@jupyter-widgets/controls",
     "model_module_version": "1.5.0",
     "model_name": "HTMLModel",
     "state": {
      "_dom_classes": [],
      "_model_module": "@jupyter-widgets/controls",
      "_model_module_version": "1.5.0",
      "_model_name": "HTMLModel",
      "_view_count": null,
      "_view_module": "@jupyter-widgets/controls",
      "_view_module_version": "1.5.0",
      "_view_name": "HTMLView",
      "description": "",
      "description_tooltip": null,
      "layout": "IPY_MODEL_bd6ac619a11349a78093c07baae136e3",
      "placeholder": "​",
      "style": "IPY_MODEL_77ca99b664334f709091a51f4ee3f729",
      "value": "generation_config.json: 100%"
     }
    }
   }
  }
 },
 "nbformat": 4,
 "nbformat_minor": 4
}
